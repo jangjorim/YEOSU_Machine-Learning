{
  "nbformat": 4,
  "nbformat_minor": 0,
  "metadata": {
    "colab": {
      "name": "셋째날.ipynb",
      "provenance": [],
      "collapsed_sections": [],
      "authorship_tag": "ABX9TyObWYohOm+IklHDlq/pTGYJ",
      "include_colab_link": true
    },
    "kernelspec": {
      "name": "python3",
      "display_name": "Python 3"
    }
  },
  "cells": [
    {
      "cell_type": "markdown",
      "metadata": {
        "id": "view-in-github",
        "colab_type": "text"
      },
      "source": [
        "<a href=\"https://colab.research.google.com/github/jangjorim/YEOSU_Machine-Learning/blob/main/%EC%85%8B%EC%A7%B8%EB%82%A0.ipynb\" target=\"_parent\"><img src=\"https://colab.research.google.com/assets/colab-badge.svg\" alt=\"Open In Colab\"/></a>"
      ]
    },
    {
      "cell_type": "code",
      "metadata": {
        "id": "yzWj6Bgkizqk"
      },
      "source": [
        "import tensorflow as tf\n",
        "import pandas as pd"
      ],
      "execution_count": null,
      "outputs": []
    },
    {
      "cell_type": "code",
      "metadata": {
        "id": "e4fy7voHi8KD",
        "colab": {
          "base_uri": "https://localhost:8080/",
          "height": 70
        },
        "outputId": "66028106-7a10-4a0f-ee28-41cc412a1689"
      },
      "source": [
        "# 데이터 준비\n",
        "# help(tf.keras.datasets.mnist.load_data)\n",
        "(x_train, y_train), (x_test, y_test) = \\\n",
        "    tf.keras.datasets.mnist.load_data()\n",
        "\n",
        "print(x_train.shape, y_train.shape)\n",
        "\n",
        "# 테이블 형태의 데이터로 변환\n",
        "x_train = x_train.reshape(60000, 784)\n",
        "x_test = x_test.reshape(10000, 784)\n",
        "\n",
        "# 원핫인코딩\n",
        "y_train = pd.get_dummies(y_train)\n",
        "y_test = pd.get_dummies(y_test)\n",
        "\n",
        "print(x_train.shape, y_train.shape)\n",
        "print(x_test.shape, y_test.shape)"
      ],
      "execution_count": null,
      "outputs": [
        {
          "output_type": "stream",
          "text": [
            "(60000, 28, 28) (60000,)\n",
            "(60000, 784) (60000, 10)\n",
            "(10000, 784) (10000, 10)\n"
          ],
          "name": "stdout"
        }
      ]
    },
    {
      "cell_type": "code",
      "metadata": {
        "id": "eWMpvC9TjgMh"
      },
      "source": [
        "# # 모델 준비\n",
        "# X = tf.keras.layers.Input(shape=[784])\n",
        "# H = tf.keras.layers.Dense(128, activation='swish')(X)\n",
        "# H = tf.keras.layers.BatchNormalization()(H) #BatchNormalization\n",
        "# H = tf.keras.layers.Activation('swish')(H) #activation을 뒤에다 두면 더 좋다는 연구 결과가 있다\n",
        "# Y = tf.keras.layers.Dense(10, activation='softmax')(H)\n",
        "# model = tf.keras.models.Model(X, Y)\n",
        "# model.compile(loss='categorical_crossentropy',\n",
        "#               metrics='accuracy')\n",
        "\n",
        "# 모델 준비\n",
        "X = tf.keras.layers.Input(shape=[784])\n",
        "\n",
        "H = tf.keras.layers.Dense(256)(X)\n",
        "H = tf.keras.layers.BatchNormalization()(H)\n",
        "H = tf.keras.layers.Activation('swish')(H)\n",
        "\n",
        "H = tf.keras.layers.Dense(256)(H)\n",
        "H = tf.keras.layers.BatchNormalization()(H)\n",
        "H = tf.keras.layers.Activation('swish')(H)\n",
        "\n",
        "H = tf.keras.layers.Dense(128)(H)\n",
        "H = tf.keras.layers.BatchNormalization()(H)\n",
        "H = tf.keras.layers.Activation('swish')(H)\n",
        "\n",
        "H = tf.keras.layers.Dense(128)(H)\n",
        "H = tf.keras.layers.BatchNormalization()(H)\n",
        "H = tf.keras.layers.Activation('swish')(H)\n",
        "\n",
        "Y = tf.keras.layers.Dense(10, activation='softmax')(H)\n",
        "model = tf.keras.models.Model(X, Y)\n",
        "model.compile(loss='categorical_crossentropy',\n",
        "              metrics='accuracy')"
      ],
      "execution_count": null,
      "outputs": []
    },
    {
      "cell_type": "code",
      "metadata": {
        "id": "14wrCyuckdCn",
        "colab": {
          "base_uri": "https://localhost:8080/",
          "height": 1000
        },
        "outputId": "36c16ef8-d136-4f94-d23c-55af3d50f1d8"
      },
      "source": [
        "# 모델 학습\n",
        "model.fit(x_train, y_train, epochs=30,\n",
        "          batch_size=128, shuffle=True)"
      ],
      "execution_count": null,
      "outputs": [
        {
          "output_type": "stream",
          "text": [
            "Epoch 1/30\n",
            "469/469 [==============================] - 3s 5ms/step - loss: 1.4737e-04 - accuracy: 1.0000\n",
            "Epoch 2/30\n",
            "469/469 [==============================] - 2s 5ms/step - loss: 3.7253e-04 - accuracy: 0.9999\n",
            "Epoch 3/30\n",
            "469/469 [==============================] - 2s 5ms/step - loss: 4.5264e-04 - accuracy: 0.9999\n",
            "Epoch 4/30\n",
            "469/469 [==============================] - 2s 5ms/step - loss: 3.1975e-04 - accuracy: 0.9999\n",
            "Epoch 5/30\n",
            "469/469 [==============================] - 2s 5ms/step - loss: 7.8851e-04 - accuracy: 0.9998\n",
            "Epoch 6/30\n",
            "469/469 [==============================] - 2s 5ms/step - loss: 0.0013 - accuracy: 0.9997\n",
            "Epoch 7/30\n",
            "469/469 [==============================] - 2s 5ms/step - loss: 5.5367e-04 - accuracy: 0.9998\n",
            "Epoch 8/30\n",
            "469/469 [==============================] - 2s 5ms/step - loss: 2.5811e-04 - accuracy: 0.9999\n",
            "Epoch 9/30\n",
            "469/469 [==============================] - 2s 5ms/step - loss: 8.3079e-04 - accuracy: 0.9998\n",
            "Epoch 10/30\n",
            "469/469 [==============================] - 2s 5ms/step - loss: 3.9275e-04 - accuracy: 0.9998\n",
            "Epoch 11/30\n",
            "469/469 [==============================] - 2s 5ms/step - loss: 6.0455e-04 - accuracy: 0.9999\n",
            "Epoch 12/30\n",
            "469/469 [==============================] - 2s 5ms/step - loss: 3.3025e-04 - accuracy: 0.9998\n",
            "Epoch 13/30\n",
            "469/469 [==============================] - 3s 5ms/step - loss: 5.4352e-04 - accuracy: 0.9998\n",
            "Epoch 14/30\n",
            "469/469 [==============================] - 2s 5ms/step - loss: 3.8427e-04 - accuracy: 0.9999\n",
            "Epoch 15/30\n",
            "469/469 [==============================] - 2s 5ms/step - loss: 9.2472e-04 - accuracy: 0.9998\n",
            "Epoch 16/30\n",
            "469/469 [==============================] - 2s 5ms/step - loss: 7.9217e-04 - accuracy: 0.9998\n",
            "Epoch 17/30\n",
            "469/469 [==============================] - 3s 5ms/step - loss: 3.9312e-04 - accuracy: 0.9999\n",
            "Epoch 18/30\n",
            "469/469 [==============================] - 2s 5ms/step - loss: 8.8820e-04 - accuracy: 0.9998\n",
            "Epoch 19/30\n",
            "469/469 [==============================] - 2s 5ms/step - loss: 7.1011e-04 - accuracy: 0.9998\n",
            "Epoch 20/30\n",
            "469/469 [==============================] - 2s 5ms/step - loss: 6.5567e-04 - accuracy: 0.9999\n",
            "Epoch 21/30\n",
            "469/469 [==============================] - 2s 5ms/step - loss: 7.5907e-04 - accuracy: 0.9997\n",
            "Epoch 22/30\n",
            "469/469 [==============================] - 2s 5ms/step - loss: 8.4176e-04 - accuracy: 0.9997\n",
            "Epoch 23/30\n",
            "469/469 [==============================] - 2s 5ms/step - loss: 4.5823e-04 - accuracy: 0.9998\n",
            "Epoch 24/30\n",
            "469/469 [==============================] - 2s 5ms/step - loss: 9.7172e-04 - accuracy: 0.9998\n",
            "Epoch 25/30\n",
            "469/469 [==============================] - 2s 5ms/step - loss: 5.2668e-04 - accuracy: 0.9998\n",
            "Epoch 26/30\n",
            "469/469 [==============================] - 2s 5ms/step - loss: 8.5989e-04 - accuracy: 0.9997\n",
            "Epoch 27/30\n",
            "469/469 [==============================] - 2s 5ms/step - loss: 0.0010 - accuracy: 0.9998\n",
            "Epoch 28/30\n",
            "469/469 [==============================] - 2s 5ms/step - loss: 7.5778e-04 - accuracy: 0.9998\n",
            "Epoch 29/30\n",
            "469/469 [==============================] - 2s 5ms/step - loss: 7.2363e-04 - accuracy: 0.9998\n",
            "Epoch 30/30\n",
            "469/469 [==============================] - 2s 5ms/step - loss: 6.3704e-04 - accuracy: 0.9998\n"
          ],
          "name": "stdout"
        },
        {
          "output_type": "execute_result",
          "data": {
            "text/plain": [
              "<tensorflow.python.keras.callbacks.History at 0x7f84764fb828>"
            ]
          },
          "metadata": {
            "tags": []
          },
          "execution_count": 30
        }
      ]
    },
    {
      "cell_type": "code",
      "metadata": {
        "id": "ghmlz02nko6n",
        "colab": {
          "base_uri": "https://localhost:8080/",
          "height": 52
        },
        "outputId": "5c71c6f7-13e4-444f-be75-a03676a745fb"
      },
      "source": [
        "model.evaluate# 모델 평가\n",
        "model.evaluate(x_test, y_test)"
      ],
      "execution_count": null,
      "outputs": [
        {
          "output_type": "stream",
          "text": [
            "313/313 [==============================] - 0s 1ms/step - loss: 0.2235 - accuracy: 0.9770\n"
          ],
          "name": "stdout"
        },
        {
          "output_type": "execute_result",
          "data": {
            "text/plain": [
              "[0.22354340553283691, 0.9769999980926514]"
            ]
          },
          "metadata": {
            "tags": []
          },
          "execution_count": 24
        }
      ]
    },
    {
      "cell_type": "code",
      "metadata": {
        "id": "MIMjSMh0k0af"
      },
      "source": [
        ""
      ],
      "execution_count": null,
      "outputs": []
    }
  ]
}