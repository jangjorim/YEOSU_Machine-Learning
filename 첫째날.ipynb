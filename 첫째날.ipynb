{
  "nbformat": 4,
  "nbformat_minor": 0,
  "metadata": {
    "colab": {
      "name": "첫째날.ipynb",
      "provenance": [],
      "collapsed_sections": [],
      "authorship_tag": "ABX9TyOAZRlL07Q3K6+yqQrJ2HG6",
      "include_colab_link": true
    },
    "kernelspec": {
      "name": "python3",
      "display_name": "Python 3"
    }
  },
  "cells": [
    {
      "cell_type": "markdown",
      "metadata": {
        "id": "view-in-github",
        "colab_type": "text"
      },
      "source": [
        "<a href=\"https://colab.research.google.com/github/jangjorim/YEOSU_Machine-Learning/blob/main/%EC%B2%AB%EC%A7%B8%EB%82%A0.ipynb\" target=\"_parent\"><img src=\"https://colab.research.google.com/assets/colab-badge.svg\" alt=\"Open In Colab\"/></a>"
      ]
    },
    {
      "cell_type": "code",
      "metadata": {
        "id": "XXTXNK5re_O4",
        "colab": {
          "base_uri": "https://localhost:8080/",
          "height": 34
        },
        "outputId": "c24d1a64-75a5-4de7-d545-f9f5c1ce73df"
      },
      "source": [
        "print(\"hello\")"
      ],
      "execution_count": null,
      "outputs": [
        {
          "output_type": "stream",
          "text": [
            "hello\n"
          ],
          "name": "stdout"
        }
      ]
    },
    {
      "cell_type": "code",
      "metadata": {
        "id": "gAjUjhUIiCTp",
        "colab": {
          "base_uri": "https://localhost:8080/",
          "height": 35
        },
        "outputId": "06877223-df7a-4019-c0d4-ac5f146db757"
      },
      "source": [
        "name = '김성민'\n",
        "name"
      ],
      "execution_count": null,
      "outputs": [
        {
          "output_type": "execute_result",
          "data": {
            "application/vnd.google.colaboratory.intrinsic+json": {
              "type": "string"
            },
            "text/plain": [
              "'김성민'"
            ]
          },
          "metadata": {
            "tags": []
          },
          "execution_count": 15
        }
      ]
    },
    {
      "cell_type": "code",
      "metadata": {
        "id": "3Oh6K0aKiJcl",
        "colab": {
          "base_uri": "https://localhost:8080/",
          "height": 35
        },
        "outputId": "79c93a14-ecbb-442c-8150-fb7ac3168f05"
      },
      "source": [
        "name = '김성민'\n",
        "name"
      ],
      "execution_count": null,
      "outputs": [
        {
          "output_type": "execute_result",
          "data": {
            "application/vnd.google.colaboratory.intrinsic+json": {
              "type": "string"
            },
            "text/plain": [
              "'김성민'"
            ]
          },
          "metadata": {
            "tags": []
          },
          "execution_count": 16
        }
      ]
    },
    {
      "cell_type": "code",
      "metadata": {
        "id": "QK7ofOPbiQj4",
        "colab": {
          "base_uri": "https://localhost:8080/",
          "height": 422
        },
        "outputId": "c2b9fd8b-b5ef-4e5a-e2f0-ab806ca03183"
      },
      "source": [
        "import pandas as pd\n",
        "boston = pd.read_csv('boston.txt')\n",
        "boston.head()"
      ],
      "execution_count": null,
      "outputs": [
        {
          "output_type": "error",
          "ename": "FileNotFoundError",
          "evalue": "ignored",
          "traceback": [
            "\u001b[0;31m---------------------------------------------------------------------------\u001b[0m",
            "\u001b[0;31mFileNotFoundError\u001b[0m                         Traceback (most recent call last)",
            "\u001b[0;32m<ipython-input-17-d1f1ac259cf5>\u001b[0m in \u001b[0;36m<module>\u001b[0;34m()\u001b[0m\n\u001b[1;32m      1\u001b[0m \u001b[0;32mimport\u001b[0m \u001b[0mpandas\u001b[0m \u001b[0;32mas\u001b[0m \u001b[0mpd\u001b[0m\u001b[0;34m\u001b[0m\u001b[0;34m\u001b[0m\u001b[0m\n\u001b[0;32m----> 2\u001b[0;31m \u001b[0mboston\u001b[0m \u001b[0;34m=\u001b[0m \u001b[0mpd\u001b[0m\u001b[0;34m.\u001b[0m\u001b[0mread_csv\u001b[0m\u001b[0;34m(\u001b[0m\u001b[0;34m'boston.txt'\u001b[0m\u001b[0;34m)\u001b[0m\u001b[0;34m\u001b[0m\u001b[0;34m\u001b[0m\u001b[0m\n\u001b[0m\u001b[1;32m      3\u001b[0m \u001b[0mboston\u001b[0m\u001b[0;34m.\u001b[0m\u001b[0mhead\u001b[0m\u001b[0;34m(\u001b[0m\u001b[0;34m)\u001b[0m\u001b[0;34m\u001b[0m\u001b[0;34m\u001b[0m\u001b[0m\n",
            "\u001b[0;32m/usr/local/lib/python3.6/dist-packages/pandas/io/parsers.py\u001b[0m in \u001b[0;36mparser_f\u001b[0;34m(filepath_or_buffer, sep, delimiter, header, names, index_col, usecols, squeeze, prefix, mangle_dupe_cols, dtype, engine, converters, true_values, false_values, skipinitialspace, skiprows, skipfooter, nrows, na_values, keep_default_na, na_filter, verbose, skip_blank_lines, parse_dates, infer_datetime_format, keep_date_col, date_parser, dayfirst, cache_dates, iterator, chunksize, compression, thousands, decimal, lineterminator, quotechar, quoting, doublequote, escapechar, comment, encoding, dialect, error_bad_lines, warn_bad_lines, delim_whitespace, low_memory, memory_map, float_precision)\u001b[0m\n\u001b[1;32m    674\u001b[0m         )\n\u001b[1;32m    675\u001b[0m \u001b[0;34m\u001b[0m\u001b[0m\n\u001b[0;32m--> 676\u001b[0;31m         \u001b[0;32mreturn\u001b[0m \u001b[0m_read\u001b[0m\u001b[0;34m(\u001b[0m\u001b[0mfilepath_or_buffer\u001b[0m\u001b[0;34m,\u001b[0m \u001b[0mkwds\u001b[0m\u001b[0;34m)\u001b[0m\u001b[0;34m\u001b[0m\u001b[0;34m\u001b[0m\u001b[0m\n\u001b[0m\u001b[1;32m    677\u001b[0m \u001b[0;34m\u001b[0m\u001b[0m\n\u001b[1;32m    678\u001b[0m     \u001b[0mparser_f\u001b[0m\u001b[0;34m.\u001b[0m\u001b[0m__name__\u001b[0m \u001b[0;34m=\u001b[0m \u001b[0mname\u001b[0m\u001b[0;34m\u001b[0m\u001b[0;34m\u001b[0m\u001b[0m\n",
            "\u001b[0;32m/usr/local/lib/python3.6/dist-packages/pandas/io/parsers.py\u001b[0m in \u001b[0;36m_read\u001b[0;34m(filepath_or_buffer, kwds)\u001b[0m\n\u001b[1;32m    446\u001b[0m \u001b[0;34m\u001b[0m\u001b[0m\n\u001b[1;32m    447\u001b[0m     \u001b[0;31m# Create the parser.\u001b[0m\u001b[0;34m\u001b[0m\u001b[0;34m\u001b[0m\u001b[0;34m\u001b[0m\u001b[0m\n\u001b[0;32m--> 448\u001b[0;31m     \u001b[0mparser\u001b[0m \u001b[0;34m=\u001b[0m \u001b[0mTextFileReader\u001b[0m\u001b[0;34m(\u001b[0m\u001b[0mfp_or_buf\u001b[0m\u001b[0;34m,\u001b[0m \u001b[0;34m**\u001b[0m\u001b[0mkwds\u001b[0m\u001b[0;34m)\u001b[0m\u001b[0;34m\u001b[0m\u001b[0;34m\u001b[0m\u001b[0m\n\u001b[0m\u001b[1;32m    449\u001b[0m \u001b[0;34m\u001b[0m\u001b[0m\n\u001b[1;32m    450\u001b[0m     \u001b[0;32mif\u001b[0m \u001b[0mchunksize\u001b[0m \u001b[0;32mor\u001b[0m \u001b[0miterator\u001b[0m\u001b[0;34m:\u001b[0m\u001b[0;34m\u001b[0m\u001b[0;34m\u001b[0m\u001b[0m\n",
            "\u001b[0;32m/usr/local/lib/python3.6/dist-packages/pandas/io/parsers.py\u001b[0m in \u001b[0;36m__init__\u001b[0;34m(self, f, engine, **kwds)\u001b[0m\n\u001b[1;32m    878\u001b[0m             \u001b[0mself\u001b[0m\u001b[0;34m.\u001b[0m\u001b[0moptions\u001b[0m\u001b[0;34m[\u001b[0m\u001b[0;34m\"has_index_names\"\u001b[0m\u001b[0;34m]\u001b[0m \u001b[0;34m=\u001b[0m \u001b[0mkwds\u001b[0m\u001b[0;34m[\u001b[0m\u001b[0;34m\"has_index_names\"\u001b[0m\u001b[0;34m]\u001b[0m\u001b[0;34m\u001b[0m\u001b[0;34m\u001b[0m\u001b[0m\n\u001b[1;32m    879\u001b[0m \u001b[0;34m\u001b[0m\u001b[0m\n\u001b[0;32m--> 880\u001b[0;31m         \u001b[0mself\u001b[0m\u001b[0;34m.\u001b[0m\u001b[0m_make_engine\u001b[0m\u001b[0;34m(\u001b[0m\u001b[0mself\u001b[0m\u001b[0;34m.\u001b[0m\u001b[0mengine\u001b[0m\u001b[0;34m)\u001b[0m\u001b[0;34m\u001b[0m\u001b[0;34m\u001b[0m\u001b[0m\n\u001b[0m\u001b[1;32m    881\u001b[0m \u001b[0;34m\u001b[0m\u001b[0m\n\u001b[1;32m    882\u001b[0m     \u001b[0;32mdef\u001b[0m \u001b[0mclose\u001b[0m\u001b[0;34m(\u001b[0m\u001b[0mself\u001b[0m\u001b[0;34m)\u001b[0m\u001b[0;34m:\u001b[0m\u001b[0;34m\u001b[0m\u001b[0;34m\u001b[0m\u001b[0m\n",
            "\u001b[0;32m/usr/local/lib/python3.6/dist-packages/pandas/io/parsers.py\u001b[0m in \u001b[0;36m_make_engine\u001b[0;34m(self, engine)\u001b[0m\n\u001b[1;32m   1112\u001b[0m     \u001b[0;32mdef\u001b[0m \u001b[0m_make_engine\u001b[0m\u001b[0;34m(\u001b[0m\u001b[0mself\u001b[0m\u001b[0;34m,\u001b[0m \u001b[0mengine\u001b[0m\u001b[0;34m=\u001b[0m\u001b[0;34m\"c\"\u001b[0m\u001b[0;34m)\u001b[0m\u001b[0;34m:\u001b[0m\u001b[0;34m\u001b[0m\u001b[0;34m\u001b[0m\u001b[0m\n\u001b[1;32m   1113\u001b[0m         \u001b[0;32mif\u001b[0m \u001b[0mengine\u001b[0m \u001b[0;34m==\u001b[0m \u001b[0;34m\"c\"\u001b[0m\u001b[0;34m:\u001b[0m\u001b[0;34m\u001b[0m\u001b[0;34m\u001b[0m\u001b[0m\n\u001b[0;32m-> 1114\u001b[0;31m             \u001b[0mself\u001b[0m\u001b[0;34m.\u001b[0m\u001b[0m_engine\u001b[0m \u001b[0;34m=\u001b[0m \u001b[0mCParserWrapper\u001b[0m\u001b[0;34m(\u001b[0m\u001b[0mself\u001b[0m\u001b[0;34m.\u001b[0m\u001b[0mf\u001b[0m\u001b[0;34m,\u001b[0m \u001b[0;34m**\u001b[0m\u001b[0mself\u001b[0m\u001b[0;34m.\u001b[0m\u001b[0moptions\u001b[0m\u001b[0;34m)\u001b[0m\u001b[0;34m\u001b[0m\u001b[0;34m\u001b[0m\u001b[0m\n\u001b[0m\u001b[1;32m   1115\u001b[0m         \u001b[0;32melse\u001b[0m\u001b[0;34m:\u001b[0m\u001b[0;34m\u001b[0m\u001b[0;34m\u001b[0m\u001b[0m\n\u001b[1;32m   1116\u001b[0m             \u001b[0;32mif\u001b[0m \u001b[0mengine\u001b[0m \u001b[0;34m==\u001b[0m \u001b[0;34m\"python\"\u001b[0m\u001b[0;34m:\u001b[0m\u001b[0;34m\u001b[0m\u001b[0;34m\u001b[0m\u001b[0m\n",
            "\u001b[0;32m/usr/local/lib/python3.6/dist-packages/pandas/io/parsers.py\u001b[0m in \u001b[0;36m__init__\u001b[0;34m(self, src, **kwds)\u001b[0m\n\u001b[1;32m   1889\u001b[0m         \u001b[0mkwds\u001b[0m\u001b[0;34m[\u001b[0m\u001b[0;34m\"usecols\"\u001b[0m\u001b[0;34m]\u001b[0m \u001b[0;34m=\u001b[0m \u001b[0mself\u001b[0m\u001b[0;34m.\u001b[0m\u001b[0musecols\u001b[0m\u001b[0;34m\u001b[0m\u001b[0;34m\u001b[0m\u001b[0m\n\u001b[1;32m   1890\u001b[0m \u001b[0;34m\u001b[0m\u001b[0m\n\u001b[0;32m-> 1891\u001b[0;31m         \u001b[0mself\u001b[0m\u001b[0;34m.\u001b[0m\u001b[0m_reader\u001b[0m \u001b[0;34m=\u001b[0m \u001b[0mparsers\u001b[0m\u001b[0;34m.\u001b[0m\u001b[0mTextReader\u001b[0m\u001b[0;34m(\u001b[0m\u001b[0msrc\u001b[0m\u001b[0;34m,\u001b[0m \u001b[0;34m**\u001b[0m\u001b[0mkwds\u001b[0m\u001b[0;34m)\u001b[0m\u001b[0;34m\u001b[0m\u001b[0;34m\u001b[0m\u001b[0m\n\u001b[0m\u001b[1;32m   1892\u001b[0m         \u001b[0mself\u001b[0m\u001b[0;34m.\u001b[0m\u001b[0munnamed_cols\u001b[0m \u001b[0;34m=\u001b[0m \u001b[0mself\u001b[0m\u001b[0;34m.\u001b[0m\u001b[0m_reader\u001b[0m\u001b[0;34m.\u001b[0m\u001b[0munnamed_cols\u001b[0m\u001b[0;34m\u001b[0m\u001b[0;34m\u001b[0m\u001b[0m\n\u001b[1;32m   1893\u001b[0m \u001b[0;34m\u001b[0m\u001b[0m\n",
            "\u001b[0;32mpandas/_libs/parsers.pyx\u001b[0m in \u001b[0;36mpandas._libs.parsers.TextReader.__cinit__\u001b[0;34m()\u001b[0m\n",
            "\u001b[0;32mpandas/_libs/parsers.pyx\u001b[0m in \u001b[0;36mpandas._libs.parsers.TextReader._setup_parser_source\u001b[0;34m()\u001b[0m\n",
            "\u001b[0;31mFileNotFoundError\u001b[0m: [Errno 2] File boston.txt does not exist: 'boston.txt'"
          ]
        }
      ]
    },
    {
      "cell_type": "code",
      "metadata": {
        "id": "q9hZIajgoq4H",
        "colab": {
          "base_uri": "https://localhost:8080/",
          "height": 34
        },
        "outputId": "8dca4092-ae31-4997-b34d-88e9ee8b50f7"
      },
      "source": [
        "\n",
        "a = [1,2,3,4,4,5,6,7,8,9,10]\n",
        "b = [e ** 2 for e in a if e % 2 == 0]\n",
        "print(b)"
      ],
      "execution_count": null,
      "outputs": [
        {
          "output_type": "stream",
          "text": [
            "[4, 16, 16, 36, 64, 100]\n"
          ],
          "name": "stdout"
        }
      ]
    },
    {
      "cell_type": "code",
      "metadata": {
        "id": "DncKAM9ZJ_cc"
      },
      "source": [
        "import tensorflow as tf\n",
        "import pandas as pd"
      ],
      "execution_count": null,
      "outputs": []
    },
    {
      "cell_type": "code",
      "metadata": {
        "id": "SNGY6ixcpbdu",
        "colab": {
          "base_uri": "https://localhost:8080/",
          "height": 195
        },
        "outputId": "d75a421d-4bbb-4342-e095-f9000794bb87"
      },
      "source": [
        "#데이터를 준비하는 부분\n",
        "파일경로 = 'https://raw.githubusercontent.com/blackdew/tensorflow1/master/csv/lemonade.csv'\n",
        "레모네이드 = pd.read_csv(파일경로)\n",
        "레모네이드.head()"
      ],
      "execution_count": null,
      "outputs": [
        {
          "output_type": "execute_result",
          "data": {
            "text/html": [
              "<div>\n",
              "<style scoped>\n",
              "    .dataframe tbody tr th:only-of-type {\n",
              "        vertical-align: middle;\n",
              "    }\n",
              "\n",
              "    .dataframe tbody tr th {\n",
              "        vertical-align: top;\n",
              "    }\n",
              "\n",
              "    .dataframe thead th {\n",
              "        text-align: right;\n",
              "    }\n",
              "</style>\n",
              "<table border=\"1\" class=\"dataframe\">\n",
              "  <thead>\n",
              "    <tr style=\"text-align: right;\">\n",
              "      <th></th>\n",
              "      <th>온도</th>\n",
              "      <th>판매량</th>\n",
              "    </tr>\n",
              "  </thead>\n",
              "  <tbody>\n",
              "    <tr>\n",
              "      <th>0</th>\n",
              "      <td>20</td>\n",
              "      <td>40</td>\n",
              "    </tr>\n",
              "    <tr>\n",
              "      <th>1</th>\n",
              "      <td>21</td>\n",
              "      <td>42</td>\n",
              "    </tr>\n",
              "    <tr>\n",
              "      <th>2</th>\n",
              "      <td>22</td>\n",
              "      <td>44</td>\n",
              "    </tr>\n",
              "    <tr>\n",
              "      <th>3</th>\n",
              "      <td>23</td>\n",
              "      <td>46</td>\n",
              "    </tr>\n",
              "    <tr>\n",
              "      <th>4</th>\n",
              "      <td>24</td>\n",
              "      <td>48</td>\n",
              "    </tr>\n",
              "  </tbody>\n",
              "</table>\n",
              "</div>"
            ],
            "text/plain": [
              "   온도  판매량\n",
              "0  20   40\n",
              "1  21   42\n",
              "2  22   44\n",
              "3  23   46\n",
              "4  24   48"
            ]
          },
          "metadata": {
            "tags": []
          },
          "execution_count": 20
        }
      ]
    },
    {
      "cell_type": "code",
      "metadata": {
        "id": "7LJjGfUQHADJ",
        "colab": {
          "base_uri": "https://localhost:8080/",
          "height": 34
        },
        "outputId": "16597396-18e1-4a16-d19e-ee365bf37e46"
      },
      "source": [
        "독립 = 레모네이드[['온도']]\n",
        "종속 = 레모네이드[['판매량']]\n",
        "print(독립.shape, 종속.shape)\n"
      ],
      "execution_count": null,
      "outputs": [
        {
          "output_type": "stream",
          "text": [
            "(6, 1) (6, 1)\n"
          ],
          "name": "stdout"
        }
      ]
    },
    {
      "cell_type": "code",
      "metadata": {
        "id": "EXI6WTbeHIJW"
      },
      "source": [
        "\n",
        "# 모델을 준비한다.\n",
        "X = tf.keras.layers.Input(shape=[1])\n",
        "Y = tf.keras.layers.Dense(1)(X)\n",
        "model = tf.keras.models.Model(X, Y)\n",
        "model.compile(loss='mse')"
      ],
      "execution_count": null,
      "outputs": []
    },
    {
      "cell_type": "code",
      "metadata": {
        "id": "eE5Bxl4xHXWm",
        "colab": {
          "base_uri": "https://localhost:8080/",
          "height": 386
        },
        "outputId": "d34b419e-9584-4bab-ae68-f8f017680094"
      },
      "source": [
        "#모델을 학습시킨다\n",
        "model.fit(독립, 종속, epochs=1000, verbose=0)\n",
        "model.fit(독립, 종속, epochs=10)"
      ],
      "execution_count": null,
      "outputs": [
        {
          "output_type": "stream",
          "text": [
            "Epoch 1/10\n",
            "1/1 [==============================] - 0s 1ms/step - loss: 0.0042\n",
            "Epoch 2/10\n",
            "1/1 [==============================] - 0s 1ms/step - loss: 0.0042\n",
            "Epoch 3/10\n",
            "1/1 [==============================] - 0s 2ms/step - loss: 0.0042\n",
            "Epoch 4/10\n",
            "1/1 [==============================] - 0s 1ms/step - loss: 0.0043\n",
            "Epoch 5/10\n",
            "1/1 [==============================] - 0s 2ms/step - loss: 0.0043\n",
            "Epoch 6/10\n",
            "1/1 [==============================] - 0s 1ms/step - loss: 0.0043\n",
            "Epoch 7/10\n",
            "1/1 [==============================] - 0s 2ms/step - loss: 0.0043\n",
            "Epoch 8/10\n",
            "1/1 [==============================] - 0s 2ms/step - loss: 0.0043\n",
            "Epoch 9/10\n",
            "1/1 [==============================] - 0s 2ms/step - loss: 0.0042\n",
            "Epoch 10/10\n",
            "1/1 [==============================] - 0s 2ms/step - loss: 0.0042\n"
          ],
          "name": "stdout"
        },
        {
          "output_type": "execute_result",
          "data": {
            "text/plain": [
              "<tensorflow.python.keras.callbacks.History at 0x7fa52a40a128>"
            ]
          },
          "metadata": {
            "tags": []
          },
          "execution_count": 23
        }
      ]
    },
    {
      "cell_type": "code",
      "metadata": {
        "id": "ONWw7OZCHZtW",
        "colab": {
          "base_uri": "https://localhost:8080/",
          "height": 122
        },
        "outputId": "1ef7d6a7-b5d8-4400-8643-817cd809db88"
      },
      "source": [
        "# 학습된 모델을 이용한다.\n",
        "model.predict(독립)"
      ],
      "execution_count": null,
      "outputs": [
        {
          "output_type": "execute_result",
          "data": {
            "text/plain": [
              "array([[40.106514],\n",
              "       [42.069683],\n",
              "       [44.032856],\n",
              "       [45.99603 ],\n",
              "       [47.9592  ],\n",
              "       [49.922375]], dtype=float32)"
            ]
          },
          "metadata": {
            "tags": []
          },
          "execution_count": 24
        }
      ]
    },
    {
      "cell_type": "code",
      "metadata": {
        "id": "iHOwpeFFJVdw",
        "colab": {
          "base_uri": "https://localhost:8080/",
          "height": 34
        },
        "outputId": "3ad088ee-a0d1-449e-acec-da5e34de8d31"
      },
      "source": [
        "model.get_weights()"
      ],
      "execution_count": null,
      "outputs": [
        {
          "output_type": "execute_result",
          "data": {
            "text/plain": [
              "[array([[1.9631724]], dtype=float32), array([0.84306157], dtype=float32)]"
            ]
          },
          "metadata": {
            "tags": []
          },
          "execution_count": 25
        }
      ]
    },
    {
      "cell_type": "code",
      "metadata": {
        "id": "A6aU8S-fLMKb"
      },
      "source": [
        "# 판매량 = 1.9957131 * 온도 + 0.08517607"
      ],
      "execution_count": null,
      "outputs": []
    },
    {
      "cell_type": "code",
      "metadata": {
        "id": "mFjoRZyPKhbU",
        "colab": {
          "base_uri": "https://localhost:8080/",
          "height": 195
        },
        "outputId": "3813b5ec-4cec-4f83-8488-c2ffd299f84a"
      },
      "source": [
        "파일경로 = 'https://raw.githubusercontent.com/blackdew/tensorflow1/master/csv/boston.csv'\n",
        "보스턴 = pd.read_csv(파일경로)\n",
        "보스턴.head()"
      ],
      "execution_count": null,
      "outputs": [
        {
          "output_type": "execute_result",
          "data": {
            "text/html": [
              "<div>\n",
              "<style scoped>\n",
              "    .dataframe tbody tr th:only-of-type {\n",
              "        vertical-align: middle;\n",
              "    }\n",
              "\n",
              "    .dataframe tbody tr th {\n",
              "        vertical-align: top;\n",
              "    }\n",
              "\n",
              "    .dataframe thead th {\n",
              "        text-align: right;\n",
              "    }\n",
              "</style>\n",
              "<table border=\"1\" class=\"dataframe\">\n",
              "  <thead>\n",
              "    <tr style=\"text-align: right;\">\n",
              "      <th></th>\n",
              "      <th>crim</th>\n",
              "      <th>zn</th>\n",
              "      <th>indus</th>\n",
              "      <th>chas</th>\n",
              "      <th>nox</th>\n",
              "      <th>rm</th>\n",
              "      <th>age</th>\n",
              "      <th>dis</th>\n",
              "      <th>rad</th>\n",
              "      <th>tax</th>\n",
              "      <th>ptratio</th>\n",
              "      <th>b</th>\n",
              "      <th>lstat</th>\n",
              "      <th>medv</th>\n",
              "    </tr>\n",
              "  </thead>\n",
              "  <tbody>\n",
              "    <tr>\n",
              "      <th>0</th>\n",
              "      <td>0.00632</td>\n",
              "      <td>18.0</td>\n",
              "      <td>2.31</td>\n",
              "      <td>0</td>\n",
              "      <td>0.538</td>\n",
              "      <td>6.575</td>\n",
              "      <td>65.2</td>\n",
              "      <td>4.0900</td>\n",
              "      <td>1</td>\n",
              "      <td>296</td>\n",
              "      <td>15.3</td>\n",
              "      <td>396.90</td>\n",
              "      <td>4.98</td>\n",
              "      <td>24.0</td>\n",
              "    </tr>\n",
              "    <tr>\n",
              "      <th>1</th>\n",
              "      <td>0.02731</td>\n",
              "      <td>0.0</td>\n",
              "      <td>7.07</td>\n",
              "      <td>0</td>\n",
              "      <td>0.469</td>\n",
              "      <td>6.421</td>\n",
              "      <td>78.9</td>\n",
              "      <td>4.9671</td>\n",
              "      <td>2</td>\n",
              "      <td>242</td>\n",
              "      <td>17.8</td>\n",
              "      <td>396.90</td>\n",
              "      <td>9.14</td>\n",
              "      <td>21.6</td>\n",
              "    </tr>\n",
              "    <tr>\n",
              "      <th>2</th>\n",
              "      <td>0.02729</td>\n",
              "      <td>0.0</td>\n",
              "      <td>7.07</td>\n",
              "      <td>0</td>\n",
              "      <td>0.469</td>\n",
              "      <td>7.185</td>\n",
              "      <td>61.1</td>\n",
              "      <td>4.9671</td>\n",
              "      <td>2</td>\n",
              "      <td>242</td>\n",
              "      <td>17.8</td>\n",
              "      <td>392.83</td>\n",
              "      <td>4.03</td>\n",
              "      <td>34.7</td>\n",
              "    </tr>\n",
              "    <tr>\n",
              "      <th>3</th>\n",
              "      <td>0.03237</td>\n",
              "      <td>0.0</td>\n",
              "      <td>2.18</td>\n",
              "      <td>0</td>\n",
              "      <td>0.458</td>\n",
              "      <td>6.998</td>\n",
              "      <td>45.8</td>\n",
              "      <td>6.0622</td>\n",
              "      <td>3</td>\n",
              "      <td>222</td>\n",
              "      <td>18.7</td>\n",
              "      <td>394.63</td>\n",
              "      <td>2.94</td>\n",
              "      <td>33.4</td>\n",
              "    </tr>\n",
              "    <tr>\n",
              "      <th>4</th>\n",
              "      <td>0.06905</td>\n",
              "      <td>0.0</td>\n",
              "      <td>2.18</td>\n",
              "      <td>0</td>\n",
              "      <td>0.458</td>\n",
              "      <td>7.147</td>\n",
              "      <td>54.2</td>\n",
              "      <td>6.0622</td>\n",
              "      <td>3</td>\n",
              "      <td>222</td>\n",
              "      <td>18.7</td>\n",
              "      <td>396.90</td>\n",
              "      <td>5.33</td>\n",
              "      <td>36.2</td>\n",
              "    </tr>\n",
              "  </tbody>\n",
              "</table>\n",
              "</div>"
            ],
            "text/plain": [
              "      crim    zn  indus  chas    nox  ...  tax  ptratio       b  lstat  medv\n",
              "0  0.00632  18.0   2.31     0  0.538  ...  296     15.3  396.90   4.98  24.0\n",
              "1  0.02731   0.0   7.07     0  0.469  ...  242     17.8  396.90   9.14  21.6\n",
              "2  0.02729   0.0   7.07     0  0.469  ...  242     17.8  392.83   4.03  34.7\n",
              "3  0.03237   0.0   2.18     0  0.458  ...  222     18.7  394.63   2.94  33.4\n",
              "4  0.06905   0.0   2.18     0  0.458  ...  222     18.7  396.90   5.33  36.2\n",
              "\n",
              "[5 rows x 14 columns]"
            ]
          },
          "metadata": {
            "tags": []
          },
          "execution_count": 27
        }
      ]
    },
    {
      "cell_type": "code",
      "metadata": {
        "id": "Cdq22MBWKp7g",
        "colab": {
          "base_uri": "https://localhost:8080/",
          "height": 70
        },
        "outputId": "6c807be5-de0a-47d5-d6df-32e6d8948e98"
      },
      "source": [
        "print(보스턴.columns)"
      ],
      "execution_count": null,
      "outputs": [
        {
          "output_type": "stream",
          "text": [
            "Index(['crim', 'zn', 'indus', 'chas', 'nox', 'rm', 'age', 'dis', 'rad', 'tax',\n",
            "       'ptratio', 'b', 'lstat', 'medv'],\n",
            "      dtype='object')\n"
          ],
          "name": "stdout"
        }
      ]
    },
    {
      "cell_type": "code",
      "metadata": {
        "id": "6fHw9R9HMG7A",
        "colab": {
          "base_uri": "https://localhost:8080/",
          "height": 34
        },
        "outputId": "cb8eaf49-56f1-4eb5-c1a4-2629b3552286"
      },
      "source": [
        "\n",
        "독립 = 보스턴[['crim', 'zn', 'indus', 'chas', 'nox', \n",
        "            'rm', 'age', 'dis', 'rad', 'tax',\n",
        "            'ptratio', 'b', 'lstat']]\n",
        "종속 = 보스턴[['medv']]\n",
        "print(독립.shape, 종속.shape)"
      ],
      "execution_count": null,
      "outputs": [
        {
          "output_type": "stream",
          "text": [
            "(506, 13) (506, 1)\n"
          ],
          "name": "stdout"
        }
      ]
    },
    {
      "cell_type": "code",
      "metadata": {
        "id": "H9eEBMVzMIqN"
      },
      "source": [
        "# 모델을 준비\n",
        "X = tf.keras.layers.Input(shape=[13])\n",
        "Y = tf.keras.layers.Dense(1)(X)\n",
        "model = tf.keras.models.Model(X, Y)\n",
        "model.compile(loss='mse')"
      ],
      "execution_count": null,
      "outputs": []
    },
    {
      "cell_type": "code",
      "metadata": {
        "id": "9WA9CqS4MZRt",
        "colab": {
          "base_uri": "https://localhost:8080/",
          "height": 386
        },
        "outputId": "4ce7f59f-2a03-496e-fa24-e40d15f4c8d2"
      },
      "source": [
        "# 학습\n",
        "model.fit(독립, 종속, epochs=1000, verbose=0)\n",
        "model.fit(독립, 종속, epochs=10)"
      ],
      "execution_count": null,
      "outputs": [
        {
          "output_type": "stream",
          "text": [
            "Epoch 1/10\n",
            "16/16 [==============================] - 0s 1ms/step - loss: 25.9127\n",
            "Epoch 2/10\n",
            "16/16 [==============================] - 0s 956us/step - loss: 25.8554\n",
            "Epoch 3/10\n",
            "16/16 [==============================] - 0s 951us/step - loss: 26.4981\n",
            "Epoch 4/10\n",
            "16/16 [==============================] - 0s 993us/step - loss: 25.6264\n",
            "Epoch 5/10\n",
            "16/16 [==============================] - 0s 997us/step - loss: 26.0057\n",
            "Epoch 6/10\n",
            "16/16 [==============================] - 0s 971us/step - loss: 26.0808\n",
            "Epoch 7/10\n",
            "16/16 [==============================] - 0s 985us/step - loss: 26.1512\n",
            "Epoch 8/10\n",
            "16/16 [==============================] - 0s 1ms/step - loss: 26.7309\n",
            "Epoch 9/10\n",
            "16/16 [==============================] - 0s 988us/step - loss: 25.6519\n",
            "Epoch 10/10\n",
            "16/16 [==============================] - 0s 955us/step - loss: 26.1252\n"
          ],
          "name": "stdout"
        },
        {
          "output_type": "execute_result",
          "data": {
            "text/plain": [
              "<tensorflow.python.keras.callbacks.History at 0x7fa527d6d8d0>"
            ]
          },
          "metadata": {
            "tags": []
          },
          "execution_count": 31
        }
      ]
    },
    {
      "cell_type": "code",
      "metadata": {
        "id": "3E_L_tyGMqs-",
        "colab": {
          "base_uri": "https://localhost:8080/",
          "height": 105
        },
        "outputId": "3b1430aa-e34d-4131-aa85-0b5aa17a62de"
      },
      "source": [
        "model.predict(독립[:5])"
      ],
      "execution_count": null,
      "outputs": [
        {
          "output_type": "execute_result",
          "data": {
            "text/plain": [
              "array([[29.10893 ],\n",
              "       [24.483393],\n",
              "       [30.234722],\n",
              "       [29.481102],\n",
              "       [28.891804]], dtype=float32)"
            ]
          },
          "metadata": {
            "tags": []
          },
          "execution_count": 32
        }
      ]
    },
    {
      "cell_type": "code",
      "metadata": {
        "id": "Wk17dt2pMx6d",
        "colab": {
          "base_uri": "https://localhost:8080/",
          "height": 195
        },
        "outputId": "f6bfcea0-2b6c-4131-e51d-f2be0718ac11"
      },
      "source": [
        "종속[:5]"
      ],
      "execution_count": null,
      "outputs": [
        {
          "output_type": "execute_result",
          "data": {
            "text/html": [
              "<div>\n",
              "<style scoped>\n",
              "    .dataframe tbody tr th:only-of-type {\n",
              "        vertical-align: middle;\n",
              "    }\n",
              "\n",
              "    .dataframe tbody tr th {\n",
              "        vertical-align: top;\n",
              "    }\n",
              "\n",
              "    .dataframe thead th {\n",
              "        text-align: right;\n",
              "    }\n",
              "</style>\n",
              "<table border=\"1\" class=\"dataframe\">\n",
              "  <thead>\n",
              "    <tr style=\"text-align: right;\">\n",
              "      <th></th>\n",
              "      <th>medv</th>\n",
              "    </tr>\n",
              "  </thead>\n",
              "  <tbody>\n",
              "    <tr>\n",
              "      <th>0</th>\n",
              "      <td>24.0</td>\n",
              "    </tr>\n",
              "    <tr>\n",
              "      <th>1</th>\n",
              "      <td>21.6</td>\n",
              "    </tr>\n",
              "    <tr>\n",
              "      <th>2</th>\n",
              "      <td>34.7</td>\n",
              "    </tr>\n",
              "    <tr>\n",
              "      <th>3</th>\n",
              "      <td>33.4</td>\n",
              "    </tr>\n",
              "    <tr>\n",
              "      <th>4</th>\n",
              "      <td>36.2</td>\n",
              "    </tr>\n",
              "  </tbody>\n",
              "</table>\n",
              "</div>"
            ],
            "text/plain": [
              "   medv\n",
              "0  24.0\n",
              "1  21.6\n",
              "2  34.7\n",
              "3  33.4\n",
              "4  36.2"
            ]
          },
          "metadata": {
            "tags": []
          },
          "execution_count": 33
        }
      ]
    },
    {
      "cell_type": "code",
      "metadata": {
        "id": "v6gXe68IM0R9",
        "colab": {
          "base_uri": "https://localhost:8080/",
          "height": 246
        },
        "outputId": "1deacf97-6a2c-45c8-bd9e-c26718ba202b"
      },
      "source": [
        "model.get_weights()"
      ],
      "execution_count": null,
      "outputs": [
        {
          "output_type": "execute_result",
          "data": {
            "text/plain": [
              "[array([[-0.08825684],\n",
              "        [ 0.06964727],\n",
              "        [-0.05378219],\n",
              "        [ 3.310349  ],\n",
              "        [ 1.6756761 ],\n",
              "        [ 4.141907  ],\n",
              "        [ 0.01426185],\n",
              "        [-0.8800208 ],\n",
              "        [ 0.15226366],\n",
              "        [-0.00977334],\n",
              "        [-0.04013867],\n",
              "        [ 0.01542563],\n",
              "        [-0.5682099 ]], dtype=float32), array([2.5769498], dtype=float32)]"
            ]
          },
          "metadata": {
            "tags": []
          },
          "execution_count": 34
        }
      ]
    },
    {
      "cell_type": "code",
      "metadata": {
        "id": "aLY24cwfM18V",
        "colab": {
          "base_uri": "https://localhost:8080/",
          "height": 52
        },
        "outputId": "978ca4f5-cf0f-4a37-9056-e30e94cd14aa"
      },
      "source": [
        "print(보스턴['crim'].mean())\n",
        "print(보스턴['crim'].std())"
      ],
      "execution_count": null,
      "outputs": [
        {
          "output_type": "stream",
          "text": [
            "3.6135235573122535\n",
            "8.601545105332487\n"
          ],
          "name": "stdout"
        }
      ]
    },
    {
      "cell_type": "code",
      "metadata": {
        "id": "fK9LjprrQNHb",
        "colab": {
          "base_uri": "https://localhost:8080/",
          "height": 195
        },
        "outputId": "6420745b-f70e-4fb5-d77e-c1e91f34ab98"
      },
      "source": [
        "파일경로 = 'https://raw.githubusercontent.com/blackdew/dplus-tensorflow/master/csv/Lemonade.csv'\n",
        "레모네이드 = pd.read_csv(파일경로) \n",
        "레모네이드.head()"
      ],
      "execution_count": null,
      "outputs": [
        {
          "output_type": "execute_result",
          "data": {
            "text/html": [
              "<div>\n",
              "<style scoped>\n",
              "    .dataframe tbody tr th:only-of-type {\n",
              "        vertical-align: middle;\n",
              "    }\n",
              "\n",
              "    .dataframe tbody tr th {\n",
              "        vertical-align: top;\n",
              "    }\n",
              "\n",
              "    .dataframe thead th {\n",
              "        text-align: right;\n",
              "    }\n",
              "</style>\n",
              "<table border=\"1\" class=\"dataframe\">\n",
              "  <thead>\n",
              "    <tr style=\"text-align: right;\">\n",
              "      <th></th>\n",
              "      <th>온도</th>\n",
              "      <th>휴일</th>\n",
              "      <th>불쾌지수</th>\n",
              "      <th>판매량</th>\n",
              "    </tr>\n",
              "  </thead>\n",
              "  <tbody>\n",
              "    <tr>\n",
              "      <th>0</th>\n",
              "      <td>14.3</td>\n",
              "      <td>1</td>\n",
              "      <td>매우나쁨</td>\n",
              "      <td>151</td>\n",
              "    </tr>\n",
              "    <tr>\n",
              "      <th>1</th>\n",
              "      <td>14.5</td>\n",
              "      <td>0</td>\n",
              "      <td>매우나쁨</td>\n",
              "      <td>118</td>\n",
              "    </tr>\n",
              "    <tr>\n",
              "      <th>2</th>\n",
              "      <td>18.2</td>\n",
              "      <td>0</td>\n",
              "      <td>매우나쁨</td>\n",
              "      <td>149</td>\n",
              "    </tr>\n",
              "    <tr>\n",
              "      <th>3</th>\n",
              "      <td>20.2</td>\n",
              "      <td>0</td>\n",
              "      <td>매우나쁨</td>\n",
              "      <td>160</td>\n",
              "    </tr>\n",
              "    <tr>\n",
              "      <th>4</th>\n",
              "      <td>19.7</td>\n",
              "      <td>0</td>\n",
              "      <td>매우나쁨</td>\n",
              "      <td>160</td>\n",
              "    </tr>\n",
              "  </tbody>\n",
              "</table>\n",
              "</div>"
            ],
            "text/plain": [
              "     온도  휴일  불쾌지수  판매량\n",
              "0  14.3   1  매우나쁨  151\n",
              "1  14.5   0  매우나쁨  118\n",
              "2  18.2   0  매우나쁨  149\n",
              "3  20.2   0  매우나쁨  160\n",
              "4  19.7   0  매우나쁨  160"
            ]
          },
          "metadata": {
            "tags": []
          },
          "execution_count": 36
        }
      ]
    },
    {
      "cell_type": "code",
      "metadata": {
        "id": "rD7nz0sxX5Uo",
        "colab": {
          "base_uri": "https://localhost:8080/",
          "height": 284
        },
        "outputId": "e64f72e5-28c4-4cfb-ab6b-c58d3e4e7833"
      },
      "source": [
        "# 수치형 변수 집단의 모습을 보고 싶을 때.\n",
        "레모네이드.describe()"
      ],
      "execution_count": null,
      "outputs": [
        {
          "output_type": "execute_result",
          "data": {
            "text/html": [
              "<div>\n",
              "<style scoped>\n",
              "    .dataframe tbody tr th:only-of-type {\n",
              "        vertical-align: middle;\n",
              "    }\n",
              "\n",
              "    .dataframe tbody tr th {\n",
              "        vertical-align: top;\n",
              "    }\n",
              "\n",
              "    .dataframe thead th {\n",
              "        text-align: right;\n",
              "    }\n",
              "</style>\n",
              "<table border=\"1\" class=\"dataframe\">\n",
              "  <thead>\n",
              "    <tr style=\"text-align: right;\">\n",
              "      <th></th>\n",
              "      <th>온도</th>\n",
              "      <th>휴일</th>\n",
              "      <th>판매량</th>\n",
              "    </tr>\n",
              "  </thead>\n",
              "  <tbody>\n",
              "    <tr>\n",
              "      <th>count</th>\n",
              "      <td>126.000000</td>\n",
              "      <td>126.000000</td>\n",
              "      <td>126.000000</td>\n",
              "    </tr>\n",
              "    <tr>\n",
              "      <th>mean</th>\n",
              "      <td>23.825397</td>\n",
              "      <td>0.285714</td>\n",
              "      <td>199.634921</td>\n",
              "    </tr>\n",
              "    <tr>\n",
              "      <th>std</th>\n",
              "      <td>5.328879</td>\n",
              "      <td>0.453557</td>\n",
              "      <td>44.812249</td>\n",
              "    </tr>\n",
              "    <tr>\n",
              "      <th>min</th>\n",
              "      <td>13.000000</td>\n",
              "      <td>0.000000</td>\n",
              "      <td>108.000000</td>\n",
              "    </tr>\n",
              "    <tr>\n",
              "      <th>25%</th>\n",
              "      <td>19.700000</td>\n",
              "      <td>0.000000</td>\n",
              "      <td>160.000000</td>\n",
              "    </tr>\n",
              "    <tr>\n",
              "      <th>50%</th>\n",
              "      <td>24.300000</td>\n",
              "      <td>0.000000</td>\n",
              "      <td>201.500000</td>\n",
              "    </tr>\n",
              "    <tr>\n",
              "      <th>75%</th>\n",
              "      <td>27.975000</td>\n",
              "      <td>1.000000</td>\n",
              "      <td>232.750000</td>\n",
              "    </tr>\n",
              "    <tr>\n",
              "      <th>max</th>\n",
              "      <td>33.700000</td>\n",
              "      <td>1.000000</td>\n",
              "      <td>294.000000</td>\n",
              "    </tr>\n",
              "  </tbody>\n",
              "</table>\n",
              "</div>"
            ],
            "text/plain": [
              "               온도          휴일         판매량\n",
              "count  126.000000  126.000000  126.000000\n",
              "mean    23.825397    0.285714  199.634921\n",
              "std      5.328879    0.453557   44.812249\n",
              "min     13.000000    0.000000  108.000000\n",
              "25%     19.700000    0.000000  160.000000\n",
              "50%     24.300000    0.000000  201.500000\n",
              "75%     27.975000    1.000000  232.750000\n",
              "max     33.700000    1.000000  294.000000"
            ]
          },
          "metadata": {
            "tags": []
          },
          "execution_count": 37
        }
      ]
    },
    {
      "cell_type": "code",
      "metadata": {
        "id": "-ttI4Gv3X7QP",
        "colab": {
          "base_uri": "https://localhost:8080/",
          "height": 105
        },
        "outputId": "b642a8f3-7411-40aa-ca4b-f26d94d9f65e"
      },
      "source": [
        "레모네이드.dtypes"
      ],
      "execution_count": null,
      "outputs": [
        {
          "output_type": "execute_result",
          "data": {
            "text/plain": [
              "온도      float64\n",
              "휴일        int64\n",
              "불쾌지수     object\n",
              "판매량       int64\n",
              "dtype: object"
            ]
          },
          "metadata": {
            "tags": []
          },
          "execution_count": 38
        }
      ]
    },
    {
      "cell_type": "code",
      "metadata": {
        "id": "g-hbGds1X81g",
        "colab": {
          "base_uri": "https://localhost:8080/",
          "height": 105
        },
        "outputId": "8c238ac5-244c-4f17-8a42-a35f5ed9ed0b"
      },
      "source": [
        "# 타입 캐스팅\n",
        "레모네이드['휴일'] = 레모네이드['휴일'].astype('category')\n",
        "레모네이드.dtypes"
      ],
      "execution_count": null,
      "outputs": [
        {
          "output_type": "execute_result",
          "data": {
            "text/plain": [
              "온도       float64\n",
              "휴일      category\n",
              "불쾌지수      object\n",
              "판매량        int64\n",
              "dtype: object"
            ]
          },
          "metadata": {
            "tags": []
          },
          "execution_count": 39
        }
      ]
    },
    {
      "cell_type": "code",
      "metadata": {
        "id": "nJIebEPfX-h3",
        "colab": {
          "base_uri": "https://localhost:8080/",
          "height": 284
        },
        "outputId": "09a772b0-4a9a-43eb-83cb-a47a73ac5208"
      },
      "source": [
        "레모네이드.describe()"
      ],
      "execution_count": null,
      "outputs": [
        {
          "output_type": "execute_result",
          "data": {
            "text/html": [
              "<div>\n",
              "<style scoped>\n",
              "    .dataframe tbody tr th:only-of-type {\n",
              "        vertical-align: middle;\n",
              "    }\n",
              "\n",
              "    .dataframe tbody tr th {\n",
              "        vertical-align: top;\n",
              "    }\n",
              "\n",
              "    .dataframe thead th {\n",
              "        text-align: right;\n",
              "    }\n",
              "</style>\n",
              "<table border=\"1\" class=\"dataframe\">\n",
              "  <thead>\n",
              "    <tr style=\"text-align: right;\">\n",
              "      <th></th>\n",
              "      <th>온도</th>\n",
              "      <th>판매량</th>\n",
              "    </tr>\n",
              "  </thead>\n",
              "  <tbody>\n",
              "    <tr>\n",
              "      <th>count</th>\n",
              "      <td>126.000000</td>\n",
              "      <td>126.000000</td>\n",
              "    </tr>\n",
              "    <tr>\n",
              "      <th>mean</th>\n",
              "      <td>23.825397</td>\n",
              "      <td>199.634921</td>\n",
              "    </tr>\n",
              "    <tr>\n",
              "      <th>std</th>\n",
              "      <td>5.328879</td>\n",
              "      <td>44.812249</td>\n",
              "    </tr>\n",
              "    <tr>\n",
              "      <th>min</th>\n",
              "      <td>13.000000</td>\n",
              "      <td>108.000000</td>\n",
              "    </tr>\n",
              "    <tr>\n",
              "      <th>25%</th>\n",
              "      <td>19.700000</td>\n",
              "      <td>160.000000</td>\n",
              "    </tr>\n",
              "    <tr>\n",
              "      <th>50%</th>\n",
              "      <td>24.300000</td>\n",
              "      <td>201.500000</td>\n",
              "    </tr>\n",
              "    <tr>\n",
              "      <th>75%</th>\n",
              "      <td>27.975000</td>\n",
              "      <td>232.750000</td>\n",
              "    </tr>\n",
              "    <tr>\n",
              "      <th>max</th>\n",
              "      <td>33.700000</td>\n",
              "      <td>294.000000</td>\n",
              "    </tr>\n",
              "  </tbody>\n",
              "</table>\n",
              "</div>"
            ],
            "text/plain": [
              "               온도         판매량\n",
              "count  126.000000  126.000000\n",
              "mean    23.825397  199.634921\n",
              "std      5.328879   44.812249\n",
              "min     13.000000  108.000000\n",
              "25%     19.700000  160.000000\n",
              "50%     24.300000  201.500000\n",
              "75%     27.975000  232.750000\n",
              "max     33.700000  294.000000"
            ]
          },
          "metadata": {
            "tags": []
          },
          "execution_count": 40
        }
      ]
    },
    {
      "cell_type": "code",
      "metadata": {
        "id": "VQfJrX1DX_4I",
        "colab": {
          "base_uri": "https://localhost:8080/",
          "height": 298
        },
        "outputId": "217b8c7b-0f34-46bd-d5f2-f8c64032e4b3"
      },
      "source": [
        "# 범주형 데이터 파악하기\n",
        "# 절대빈도\n",
        "print(레모네이드['휴일'].value_counts())\n",
        "print(레모네이드['불쾌지수'].value_counts())\n",
        "# 상대빈도\n",
        "print(레모네이드['휴일'].value_counts(normalize=True))\n",
        "print(레모네이드['불쾌지수'].value_counts(normalize=True))"
      ],
      "execution_count": null,
      "outputs": [
        {
          "output_type": "stream",
          "text": [
            "0    90\n",
            "1    36\n",
            "Name: 휴일, dtype: int64\n",
            "나쁨      48\n",
            "보통      32\n",
            "쾌적      23\n",
            "매우나쁨    23\n",
            "Name: 불쾌지수, dtype: int64\n",
            "0    0.714286\n",
            "1    0.285714\n",
            "Name: 휴일, dtype: float64\n",
            "나쁨      0.380952\n",
            "보통      0.253968\n",
            "쾌적      0.182540\n",
            "매우나쁨    0.182540\n",
            "Name: 불쾌지수, dtype: float64\n"
          ],
          "name": "stdout"
        }
      ]
    },
    {
      "cell_type": "code",
      "metadata": {
        "id": "A8WkZPBpYB_g",
        "colab": {
          "base_uri": "https://localhost:8080/",
          "height": 282
        },
        "outputId": "97e71363-a46a-4b57-be14-3617294ac7d4"
      },
      "source": [
        "레모네이드['온도'].plot.hist(grid=1, bins=20)"
      ],
      "execution_count": null,
      "outputs": [
        {
          "output_type": "execute_result",
          "data": {
            "text/plain": [
              "<matplotlib.axes._subplots.AxesSubplot at 0x7fa526ce57b8>"
            ]
          },
          "metadata": {
            "tags": []
          },
          "execution_count": 42
        },
        {
          "output_type": "display_data",
          "data": {
            "image/png": "[encoded data removed]",
            "text/plain": [
              "<Figure size 432x288 with 1 Axes>"
            ]
          },
          "metadata": {
            "tags": [],
            "needs_background": "light"
          }
        }
      ]
    },
    {
      "cell_type": "code",
      "metadata": {
        "id": "DaiWG171Y1wz",
        "colab": {
          "base_uri": "https://localhost:8080/",
          "height": 282
        },
        "outputId": "9afb910e-f6ca-446b-e56a-594907cc7b81"
      },
      "source": [
        "레모네이드['온도'].plot.kde()"
      ],
      "execution_count": null,
      "outputs": [
        {
          "output_type": "execute_result",
          "data": {
            "text/plain": [
              "<matplotlib.axes._subplots.AxesSubplot at 0x7fa527d62b70>"
            ]
          },
          "metadata": {
            "tags": []
          },
          "execution_count": 43
        },
        {
          "output_type": "display_data",
          "data": {
            "image/png": "[encoded data removed]",
            "text/plain": [
              "<Figure size 432x288 with 1 Axes>"
            ]
          },
          "metadata": {
            "tags": [],
            "needs_background": "light"
          }
        }
      ]
    },
    {
      "cell_type": "code",
      "metadata": {
        "id": "c9nwKnCaZMUX",
        "colab": {
          "base_uri": "https://localhost:8080/",
          "height": 282
        },
        "outputId": "78b54725-bc1e-46de-e6ec-aebe0e83435d"
      },
      "source": [
        "# 범주형 - bar, pie\n",
        "레모네이드['휴일'].value_counts().plot.bar(rot=0)"
      ],
      "execution_count": null,
      "outputs": [
        {
          "output_type": "execute_result",
          "data": {
            "text/plain": [
              "<matplotlib.axes._subplots.AxesSubplot at 0x7fa52677e6a0>"
            ]
          },
          "metadata": {
            "tags": []
          },
          "execution_count": 44
        },
        {
          "output_type": "display_data",
          "data": {
            "image/png": "[encoded data removed]",
            "text/plain": [
              "<Figure size 432x288 with 1 Axes>"
            ]
          },
          "metadata": {
            "tags": [],
            "needs_background": "light"
          }
        }
      ]
    },
    {
      "cell_type": "code",
      "metadata": {
        "id": "wHmwNQ2JZ4SY",
        "colab": {
          "base_uri": "https://localhost:8080/",
          "height": 409
        },
        "outputId": "d4af6a19-5be4-4c28-b21a-ccee3cf1fc4f"
      },
      "source": [
        "레모네이드['휴일'].value_counts().plot.pie(autopct='%0.1f%%')"
      ],
      "execution_count": null,
      "outputs": [
        {
          "output_type": "execute_result",
          "data": {
            "text/plain": [
              "<matplotlib.axes._subplots.AxesSubplot at 0x7fa52056f710>"
            ]
          },
          "metadata": {
            "tags": []
          },
          "execution_count": 45
        },
        {
          "output_type": "stream",
          "text": [
            "/usr/local/lib/python3.6/dist-packages/matplotlib/backends/backend_agg.py:214: RuntimeWarning: Glyph 55092 missing from current font.\n",
            "  font.set_text(s, 0.0, flags=flags)\n",
            "/usr/local/lib/python3.6/dist-packages/matplotlib/backends/backend_agg.py:214: RuntimeWarning: Glyph 51068 missing from current font.\n",
            "  font.set_text(s, 0.0, flags=flags)\n",
            "/usr/local/lib/python3.6/dist-packages/matplotlib/backends/backend_agg.py:183: RuntimeWarning: Glyph 55092 missing from current font.\n",
            "  font.set_text(s, 0, flags=flags)\n",
            "/usr/local/lib/python3.6/dist-packages/matplotlib/backends/backend_agg.py:183: RuntimeWarning: Glyph 51068 missing from current font.\n",
            "  font.set_text(s, 0, flags=flags)\n"
          ],
          "name": "stderr"
        },
        {
          "output_type": "display_data",
          "data": {
            "image/png": "[encoded data removed]",
            "text/plain": [
              "<Figure size 432x288 with 1 Axes>"
            ]
          },
          "metadata": {
            "tags": []
          }
        }
      ]
    },
    {
      "cell_type": "code",
      "metadata": {
        "id": "xaPHdVsqZ8dw",
        "colab": {
          "base_uri": "https://localhost:8080/",
          "height": 52
        },
        "outputId": "40c54f38-47e8-4d56-95cb-3bfc718708c3"
      },
      "source": [
        "import pprint\n",
        "\n",
        "class_1 = [\n",
        "    ['이숙번', 80, 79, 58],\n",
        "    ['이호준', 100, 99, 87],\n",
        "    ['최지현', 90, 96, 85]\n",
        "]\n",
        "class_1 = {e[0]: e[1:] for e in class_1}\n",
        "pprint.pprint(class_1)\n",
        "\n",
        "class_1 = [[k, *v] for k, v in class_1.items()]\n",
        "pprint.pprint(class_1)\n",
        "\n",
        "\n"
      ],
      "execution_count": null,
      "outputs": [
        {
          "output_type": "stream",
          "text": [
            "{'이숙번': [80, 79, 58], '이호준': [100, 99, 87], '최지현': [90, 96, 85]}\n",
            "[['이숙번', 80, 79, 58], ['이호준', 100, 99, 87], ['최지현', 90, 96, 85]]\n"
          ],
          "name": "stdout"
        }
      ]
    },
    {
      "cell_type": "code",
      "metadata": {
        "id": "Kc0wkHuJitHO",
        "colab": {
          "base_uri": "https://localhost:8080/",
          "height": 70
        },
        "outputId": "bb9d6af5-4b7d-40c9-cb43-f8365b20e7f8"
      },
      "source": [
        "# multi assign\n",
        "a, b, c = [1, 2, 3]\n",
        "print(a)\n",
        "print(b)\n",
        "print(c)"
      ],
      "execution_count": null,
      "outputs": [
        {
          "output_type": "stream",
          "text": [
            "1\n",
            "2\n",
            "3\n"
          ],
          "name": "stdout"
        }
      ]
    },
    {
      "cell_type": "code",
      "metadata": {
        "id": "GINX7CE_ijqW",
        "colab": {
          "base_uri": "https://localhost:8080/",
          "height": 70
        },
        "outputId": "c187f00d-70e9-4f60-cb8d-55cb419643bc"
      },
      "source": [
        "for k, v in [[1, 2], [3, 4], [5, 6]]:\n",
        "    print(k, v)"
      ],
      "execution_count": null,
      "outputs": [
        {
          "output_type": "stream",
          "text": [
            "1 2\n",
            "3 4\n",
            "5 6\n"
          ],
          "name": "stdout"
        }
      ]
    },
    {
      "cell_type": "code",
      "metadata": {
        "id": "HBBPaOCrbbCP",
        "colab": {
          "base_uri": "https://localhost:8080/",
          "height": 105
        },
        "outputId": "fff4114c-e056-453f-9a14-7974b200d618"
      },
      "source": [
        "# list\n",
        "a1 = ['a', 'b', 'c', 'd']\n",
        "for i, e in enumerate(a1):\n",
        "    print(i, e)\n",
        "\n",
        "print(list(enumerate(a1)))"
      ],
      "execution_count": null,
      "outputs": [
        {
          "output_type": "stream",
          "text": [
            "0 a\n",
            "1 b\n",
            "2 c\n",
            "3 d\n",
            "[(0, 'a'), (1, 'b'), (2, 'c'), (3, 'd')]\n"
          ],
          "name": "stdout"
        }
      ]
    },
    {
      "cell_type": "code",
      "metadata": {
        "id": "k_G2f0qWibYY",
        "colab": {
          "base_uri": "https://localhost:8080/",
          "height": 87
        },
        "outputId": "d2b6e933-0b3a-4038-eb6f-67a64cf97f39"
      },
      "source": [
        "# dictionary\n",
        "d1 = {'a': 1, 'b': 2, 'c': 3}\n",
        "for k, v in d1.items():\n",
        "    print(k, v)\n",
        "\n",
        "print(list(d1.items()))"
      ],
      "execution_count": null,
      "outputs": [
        {
          "output_type": "stream",
          "text": [
            "a 1\n",
            "b 2\n",
            "c 3\n",
            "[('a', 1), ('b', 2), ('c', 3)]\n"
          ],
          "name": "stdout"
        }
      ]
    },
    {
      "cell_type": "code",
      "metadata": {
        "id": "_GdBbZH4i6Um",
        "colab": {
          "base_uri": "https://localhost:8080/",
          "height": 34
        },
        "outputId": "81632e67-2951-4ebd-e85a-f3bcdf228a1e"
      },
      "source": [
        "def multi_return():\n",
        "    return 1, 2, 3, 4\n",
        "\n",
        "a, b, c, d = multi_return()\n",
        "print(a, b, c, d)"
      ],
      "execution_count": null,
      "outputs": [
        {
          "output_type": "stream",
          "text": [
            "1 2 3 4\n"
          ],
          "name": "stdout"
        }
      ]
    },
    {
      "cell_type": "code",
      "metadata": {
        "id": "uf8xUiJNjdIm",
        "colab": {
          "base_uri": "https://localhost:8080/",
          "height": 87
        },
        "outputId": "a0f10cb1-a57f-4205-870c-a0a34546055c"
      },
      "source": [
        "a1 = ['a', 'b', 'c', 'd']\n",
        "b1 = [3, 4, 5, 6]\n",
        "c1 = ['r', 'e', 'w', 'q']\n",
        "\n",
        "list(zip(a1, b1, c1))\n",
        "for a, b, c in zip(a1, b1, c1):\n",
        "    print(a, b, c)"
      ],
      "execution_count": null,
      "outputs": [
        {
          "output_type": "stream",
          "text": [
            "a 3 r\n",
            "b 4 e\n",
            "c 5 w\n",
            "d 6 q\n"
          ],
          "name": "stdout"
        }
      ]
    },
    {
      "cell_type": "code",
      "metadata": {
        "id": "hDhLMm9RjhYO",
        "colab": {
          "base_uri": "https://localhost:8080/",
          "height": 34
        },
        "outputId": "f2484a40-378e-4ab8-fdb6-5707d5ea6d07"
      },
      "source": [
        "a = [1, 2, 3]\n",
        "b = [3, 4, 5]\n",
        "c = [*a, *b, 6, 7, 8]\n",
        "c"
      ],
      "execution_count": null,
      "outputs": [
        {
          "output_type": "execute_result",
          "data": {
            "text/plain": [
              "[1, 2, 3, 3, 4, 5, 6, 7, 8]"
            ]
          },
          "metadata": {
            "tags": []
          },
          "execution_count": 53
        }
      ]
    },
    {
      "cell_type": "code",
      "metadata": {
        "id": "uSCxa5FvkqLj",
        "colab": {
          "base_uri": "https://localhost:8080/",
          "height": 52
        },
        "outputId": "f177e4aa-5215-4f0f-b5b3-2d708ed2a653"
      },
      "source": [
        "d1 = {'a': 1, 'b': 2, 'c': 3}\n",
        "d2 = dict(a=1, b=2, c=3)\n",
        "print(d1)\n",
        "print(d2)\n"
      ],
      "execution_count": null,
      "outputs": [
        {
          "output_type": "stream",
          "text": [
            "{'a': 1, 'b': 2, 'c': 3}\n",
            "{'a': 1, 'b': 2, 'c': 3}\n"
          ],
          "name": "stdout"
        }
      ]
    },
    {
      "cell_type": "code",
      "metadata": {
        "id": "LgFnf98qlV_X",
        "colab": {
          "base_uri": "https://localhost:8080/",
          "height": 34
        },
        "outputId": "5d30b72d-77aa-42a1-c763-7c68164b710b"
      },
      "source": [
        "d3 = dict(d=4, e=5, **d2)\n",
        "print(d3)"
      ],
      "execution_count": null,
      "outputs": [
        {
          "output_type": "stream",
          "text": [
            "{'d': 4, 'e': 5, 'a': 1, 'b': 2, 'c': 3}\n"
          ],
          "name": "stdout"
        }
      ]
    },
    {
      "cell_type": "code",
      "metadata": {
        "id": "aMcUDoEuk6fv",
        "colab": {
          "base_uri": "https://localhost:8080/",
          "height": 34
        },
        "outputId": "9a7b6db2-f41b-4083-f7e8-f0b640102767"
      },
      "source": [
        "a = int('1')\n",
        "b = str(1)\n",
        "print(type(a), type(b))"
      ],
      "execution_count": null,
      "outputs": [
        {
          "output_type": "stream",
          "text": [
            "<class 'int'> <class 'str'>\n"
          ],
          "name": "stdout"
        }
      ]
    },
    {
      "cell_type": "code",
      "metadata": {
        "id": "XfjRko95lL6_",
        "colab": {
          "base_uri": "https://localhost:8080/",
          "height": 70
        },
        "outputId": "5cf18dba-c32c-4543-81e5-2237148d2d86"
      },
      "source": [
        "class2 = [\n",
        "    {'이름': '이숙번', '점수': [6, 7, 8]},\n",
        "    {'이름': '이호준', '점수': [9, 7, 8]},\n",
        "    {'이름': '최지현', '점수': [6, 7, 8]},\n",
        "]\n",
        "class2 = [dict(합계=sum(e['점수']), **e) for e in class2]\n",
        "\n",
        "import pprint\n",
        "pprint.pprint(class2)"
      ],
      "execution_count": null,
      "outputs": [
        {
          "output_type": "stream",
          "text": [
            "[{'이름': '이숙번', '점수': [6, 7, 8], '합계': 21},\n",
            " {'이름': '이호준', '점수': [9, 7, 8], '합계': 24},\n",
            " {'이름': '최지현', '점수': [6, 7, 8], '합계': 21}]\n"
          ],
          "name": "stdout"
        }
      ]
    },
    {
      "cell_type": "code",
      "metadata": {
        "id": "6JeGzPC7mDBv"
      },
      "source": [
        "def sum2(*arg):\n",
        "    print(arg)\n",
        "    return sum(arg)"
      ],
      "execution_count": null,
      "outputs": []
    },
    {
      "cell_type": "code",
      "metadata": {
        "id": "ZgbMDF1amgbX",
        "colab": {
          "base_uri": "https://localhost:8080/",
          "height": 122
        },
        "outputId": "c8307ebf-55db-4ffb-a665-b15384266fe2"
      },
      "source": [
        "print(sum2(1, 2, 3, 4))\n",
        "print(sum2(1, 2, 3, 4, 5))\n",
        "print(sum2(1, 2, 3, 4, 5, 6, 7))"
      ],
      "execution_count": null,
      "outputs": [
        {
          "output_type": "stream",
          "text": [
            "(1, 2, 3, 4)\n",
            "10\n",
            "(1, 2, 3, 4, 5)\n",
            "15\n",
            "(1, 2, 3, 4, 5, 6, 7)\n",
            "28\n"
          ],
          "name": "stdout"
        }
      ]
    },
    {
      "cell_type": "code",
      "metadata": {
        "id": "-BC6h-QxmoNn"
      },
      "source": [
        "def sum3(**kwarg):\n",
        "    print(kwarg)"
      ],
      "execution_count": null,
      "outputs": []
    },
    {
      "cell_type": "code",
      "metadata": {
        "id": "5YO0KRQpm_Cf",
        "colab": {
          "base_uri": "https://localhost:8080/",
          "height": 52
        },
        "outputId": "76933d66-6f06-40e1-c8f0-a237a89b17b5"
      },
      "source": [
        "sum3(a=1, b=2, c=3)\n",
        "sum3(d=1, e=2, r=3)"
      ],
      "execution_count": null,
      "outputs": [
        {
          "output_type": "stream",
          "text": [
            "{'a': 1, 'b': 2, 'c': 3}\n",
            "{'d': 1, 'e': 2, 'r': 3}\n"
          ],
          "name": "stdout"
        }
      ]
    },
    {
      "cell_type": "code",
      "metadata": {
        "id": "XfVA8dvwnDP_",
        "colab": {
          "base_uri": "https://localhost:8080/",
          "height": 34
        },
        "outputId": "312a2b9a-c56c-4bbf-a4af-1aa909a552b6"
      },
      "source": [
        "import random\n",
        "\n",
        "a = random.randint(1, 10)\n",
        "a"
      ],
      "execution_count": null,
      "outputs": [
        {
          "output_type": "execute_result",
          "data": {
            "text/plain": [
              "5"
            ]
          },
          "metadata": {
            "tags": []
          },
          "execution_count": 62
        }
      ]
    },
    {
      "cell_type": "code",
      "metadata": {
        "id": "OdH1mWlMoEH_",
        "colab": {
          "base_uri": "https://localhost:8080/",
          "height": 52
        },
        "outputId": "fea97c61-d24b-4592-bc30-0815889a3a3b"
      },
      "source": [
        "a = [1, 2, 3, 4, 5, 6]\n",
        "random.shuffle(a)\n",
        "print(a)\n",
        "\n",
        "numbers = list(range(1, 47))\n",
        "random.shuffle(numbers)\n",
        "lotto = numbers[:6]\n",
        "print(lotto)"
      ],
      "execution_count": null,
      "outputs": [
        {
          "output_type": "stream",
          "text": [
            "[6, 3, 5, 2, 4, 1]\n",
            "[18, 39, 19, 45, 16, 20]\n"
          ],
          "name": "stdout"
        }
      ]
    },
    {
      "cell_type": "code",
      "metadata": {
        "id": "CXv3xrGkoSOH"
      },
      "source": [
        "class3 = ['이호준'\n",
        ", '정도윤'\n",
        ", '유현주'\n",
        ", '정수인'\n",
        ", '김성민'\n",
        ", '김경도'\n",
        ", '김영환'\n",
        ", '김요진'\n",
        ", '김형준'\n",
        ", '김유민'\n",
        ", '박성래'\n",
        ", '문주원 버러지'\n",
        ", '천영민'\n",
        ", '방은혁'\n",
        ", '나 [박준형]'\n",
        ", '김주성'\n",
        ", '임준명'\n",
        ", '박수아'\n",
        ", '유호진'\n",
        ", '곽은서'\n",
        ", '이도건'\n",
        ", '존ㅡ잘'\n",
        ", '김아련하다'\n",
        ", '정다인'\n",
        ", '조주혁'\n",
        ", '김여진'\n",
        ", '정인교'\n",
        ", '박경훈'\n",
        ", '백성수'\n",
        ", '김정우']"
      ],
      "execution_count": null,
      "outputs": []
    },
    {
      "cell_type": "code",
      "metadata": {
        "id": "xZwrXTKPq19x",
        "colab": {
          "base_uri": "https://localhost:8080/",
          "height": 281
        },
        "outputId": "633fbd00-3d91-4a73-f0f6-11acc36f37b0"
      },
      "source": [
        "random.shuffle(class3)\n",
        "while len(class3):\n",
        "    print(class3.pop(), class3.pop())"
      ],
      "execution_count": null,
      "outputs": [
        {
          "output_type": "stream",
          "text": [
            "정인교 김아련하다\n",
            "정수인 김영환\n",
            "박수아 박경훈\n",
            "이호준 김정우\n",
            "곽은서 김요진\n",
            "박성래 김형준\n",
            "백성수 김여진\n",
            "조주혁 임준명\n",
            "김경도 유현주\n",
            "김유민 나 [박준형]\n",
            "정도윤 이도건\n",
            "존ㅡ잘 김주성\n",
            "문주원 버러지 천영민\n",
            "방은혁 유호진\n",
            "김성민 정다인\n"
          ],
          "name": "stdout"
        }
      ]
    },
    {
      "cell_type": "code",
      "metadata": {
        "id": "5nx1khpvq4_P",
        "colab": {
          "base_uri": "https://localhost:8080/",
          "height": 158
        },
        "outputId": "524cb75e-425d-4957-8399-ea5bae04ea97"
      },
      "source": [
        "help('a'.zfill)"
      ],
      "execution_count": null,
      "outputs": [
        {
          "output_type": "stream",
          "text": [
            "Help on built-in function zfill:\n",
            "\n",
            "zfill(...) method of builtins.str instance\n",
            "    S.zfill(width) -> str\n",
            "    \n",
            "    Pad a numeric string S with zeros on the left, to fill a field\n",
            "    of the specified width. The string S is never truncated.\n",
            "\n"
          ],
          "name": "stdout"
        }
      ]
    },
    {
      "cell_type": "code",
      "metadata": {
        "id": "Cl12hnyXxJX0",
        "colab": {
          "base_uri": "https://localhost:8080/",
          "height": 562
        },
        "outputId": "16112cd6-ae26-433c-c2a3-52e57a364a1c"
      },
      "source": [
        "#message라는 변수에 메일의 기본 형태를 담자.\n",
        "message = \"\"\"안녕하세요. {0}{1}님\n",
        "파이썬 수업에 오신걸 환영합니다.\n",
        "오늘은 {2}일차입니다. 오늘 수업은 어떠셨나요?\n",
        "남은 기간도 {1}님과 함께 즐거운 시간이 되길 바랍니다. :)\n",
        "\"\"\"\n",
        "#보낼 사람의 이름과 필요한 데이터를 입력받는다.\n",
        "print(\"누구에게 보낼 메일인가요?\")\n",
        "who = input()\n",
        "print(\"vip 인가요? 맞으면 y를 적어주세요\")\n",
        "count = input()\n",
        "if(count == 'y'):\n",
        "  count = 1\n",
        "  vip = \"vip \"\n",
        "else :\n",
        "  count = 0\n",
        "  vip = \"\"\n",
        "print(\"오늘은 몇번째 날인가요?\")\n",
        "num = input()\n",
        "#입력받은 데이터로 메일 내용을 완성하여 출력한다.\n",
        "print(\"작성된 메일본문입니다.\")\n",
        "if(count == 1):\n",
        "  print(message.format(vip, who, num))\n",
        "else :\n",
        "  print(message.format(vip, who, num))\n"
      ],
      "execution_count": null,
      "outputs": [
        {
          "output_type": "stream",
          "text": [
            "누구에게 보낼 메일인가요?\n"
          ],
          "name": "stdout"
        },
        {
          "output_type": "error",
          "ename": "KeyboardInterrupt",
          "evalue": "ignored",
          "traceback": [
            "\u001b[0;31m---------------------------------------------------------------------------\u001b[0m",
            "\u001b[0;31mKeyboardInterrupt\u001b[0m                         Traceback (most recent call last)",
            "\u001b[0;32m/usr/local/lib/python3.6/dist-packages/ipykernel/kernelbase.py\u001b[0m in \u001b[0;36m_input_request\u001b[0;34m(self, prompt, ident, parent, password)\u001b[0m\n\u001b[1;32m    728\u001b[0m             \u001b[0;32mtry\u001b[0m\u001b[0;34m:\u001b[0m\u001b[0;34m\u001b[0m\u001b[0;34m\u001b[0m\u001b[0m\n\u001b[0;32m--> 729\u001b[0;31m                 \u001b[0mident\u001b[0m\u001b[0;34m,\u001b[0m \u001b[0mreply\u001b[0m \u001b[0;34m=\u001b[0m \u001b[0mself\u001b[0m\u001b[0;34m.\u001b[0m\u001b[0msession\u001b[0m\u001b[0;34m.\u001b[0m\u001b[0mrecv\u001b[0m\u001b[0;34m(\u001b[0m\u001b[0mself\u001b[0m\u001b[0;34m.\u001b[0m\u001b[0mstdin_socket\u001b[0m\u001b[0;34m,\u001b[0m \u001b[0;36m0\u001b[0m\u001b[0;34m)\u001b[0m\u001b[0;34m\u001b[0m\u001b[0;34m\u001b[0m\u001b[0m\n\u001b[0m\u001b[1;32m    730\u001b[0m             \u001b[0;32mexcept\u001b[0m \u001b[0mException\u001b[0m\u001b[0;34m:\u001b[0m\u001b[0;34m\u001b[0m\u001b[0;34m\u001b[0m\u001b[0m\n",
            "\u001b[0;32m/usr/local/lib/python3.6/dist-packages/jupyter_client/session.py\u001b[0m in \u001b[0;36mrecv\u001b[0;34m(self, socket, mode, content, copy)\u001b[0m\n\u001b[1;32m    802\u001b[0m         \u001b[0;32mtry\u001b[0m\u001b[0;34m:\u001b[0m\u001b[0;34m\u001b[0m\u001b[0;34m\u001b[0m\u001b[0m\n\u001b[0;32m--> 803\u001b[0;31m             \u001b[0mmsg_list\u001b[0m \u001b[0;34m=\u001b[0m \u001b[0msocket\u001b[0m\u001b[0;34m.\u001b[0m\u001b[0mrecv_multipart\u001b[0m\u001b[0;34m(\u001b[0m\u001b[0mmode\u001b[0m\u001b[0;34m,\u001b[0m \u001b[0mcopy\u001b[0m\u001b[0;34m=\u001b[0m\u001b[0mcopy\u001b[0m\u001b[0;34m)\u001b[0m\u001b[0;34m\u001b[0m\u001b[0;34m\u001b[0m\u001b[0m\n\u001b[0m\u001b[1;32m    804\u001b[0m         \u001b[0;32mexcept\u001b[0m \u001b[0mzmq\u001b[0m\u001b[0;34m.\u001b[0m\u001b[0mZMQError\u001b[0m \u001b[0;32mas\u001b[0m \u001b[0me\u001b[0m\u001b[0;34m:\u001b[0m\u001b[0;34m\u001b[0m\u001b[0;34m\u001b[0m\u001b[0m\n",
            "\u001b[0;32m/usr/local/lib/python3.6/dist-packages/zmq/sugar/socket.py\u001b[0m in \u001b[0;36mrecv_multipart\u001b[0;34m(self, flags, copy, track)\u001b[0m\n\u001b[1;32m    490\u001b[0m         \"\"\"\n\u001b[0;32m--> 491\u001b[0;31m         \u001b[0mparts\u001b[0m \u001b[0;34m=\u001b[0m \u001b[0;34m[\u001b[0m\u001b[0mself\u001b[0m\u001b[0;34m.\u001b[0m\u001b[0mrecv\u001b[0m\u001b[0;34m(\u001b[0m\u001b[0mflags\u001b[0m\u001b[0;34m,\u001b[0m \u001b[0mcopy\u001b[0m\u001b[0;34m=\u001b[0m\u001b[0mcopy\u001b[0m\u001b[0;34m,\u001b[0m \u001b[0mtrack\u001b[0m\u001b[0;34m=\u001b[0m\u001b[0mtrack\u001b[0m\u001b[0;34m)\u001b[0m\u001b[0;34m]\u001b[0m\u001b[0;34m\u001b[0m\u001b[0;34m\u001b[0m\u001b[0m\n\u001b[0m\u001b[1;32m    492\u001b[0m         \u001b[0;31m# have first part already, only loop while more to receive\u001b[0m\u001b[0;34m\u001b[0m\u001b[0;34m\u001b[0m\u001b[0;34m\u001b[0m\u001b[0m\n",
            "\u001b[0;32mzmq/backend/cython/socket.pyx\u001b[0m in \u001b[0;36mzmq.backend.cython.socket.Socket.recv\u001b[0;34m()\u001b[0m\n",
            "\u001b[0;32mzmq/backend/cython/socket.pyx\u001b[0m in \u001b[0;36mzmq.backend.cython.socket.Socket.recv\u001b[0;34m()\u001b[0m\n",
            "\u001b[0;32mzmq/backend/cython/socket.pyx\u001b[0m in \u001b[0;36mzmq.backend.cython.socket._recv_copy\u001b[0;34m()\u001b[0m\n",
            "\u001b[0;32m/usr/local/lib/python3.6/dist-packages/zmq/backend/cython/checkrc.pxd\u001b[0m in \u001b[0;36mzmq.backend.cython.checkrc._check_rc\u001b[0;34m()\u001b[0m\n",
            "\u001b[0;31mKeyboardInterrupt\u001b[0m: ",
            "\nDuring handling of the above exception, another exception occurred:\n",
            "\u001b[0;31mKeyboardInterrupt\u001b[0m                         Traceback (most recent call last)",
            "\u001b[0;32m<ipython-input-67-80a252bb5f9a>\u001b[0m in \u001b[0;36m<module>\u001b[0;34m()\u001b[0m\n\u001b[1;32m      7\u001b[0m \u001b[0;31m#보낼 사람의 이름과 필요한 데이터를 입력받는다.\u001b[0m\u001b[0;34m\u001b[0m\u001b[0;34m\u001b[0m\u001b[0;34m\u001b[0m\u001b[0m\n\u001b[1;32m      8\u001b[0m \u001b[0mprint\u001b[0m\u001b[0;34m(\u001b[0m\u001b[0;34m\"누구에게 보낼 메일인가요?\"\u001b[0m\u001b[0;34m)\u001b[0m\u001b[0;34m\u001b[0m\u001b[0;34m\u001b[0m\u001b[0m\n\u001b[0;32m----> 9\u001b[0;31m \u001b[0mwho\u001b[0m \u001b[0;34m=\u001b[0m \u001b[0minput\u001b[0m\u001b[0;34m(\u001b[0m\u001b[0;34m)\u001b[0m\u001b[0;34m\u001b[0m\u001b[0;34m\u001b[0m\u001b[0m\n\u001b[0m\u001b[1;32m     10\u001b[0m \u001b[0mprint\u001b[0m\u001b[0;34m(\u001b[0m\u001b[0;34m\"vip 인가요? 맞으면 y를 적어주세요\"\u001b[0m\u001b[0;34m)\u001b[0m\u001b[0;34m\u001b[0m\u001b[0;34m\u001b[0m\u001b[0m\n\u001b[1;32m     11\u001b[0m \u001b[0mcount\u001b[0m \u001b[0;34m=\u001b[0m \u001b[0minput\u001b[0m\u001b[0;34m(\u001b[0m\u001b[0;34m)\u001b[0m\u001b[0;34m\u001b[0m\u001b[0;34m\u001b[0m\u001b[0m\n",
            "\u001b[0;32m/usr/local/lib/python3.6/dist-packages/ipykernel/kernelbase.py\u001b[0m in \u001b[0;36mraw_input\u001b[0;34m(self, prompt)\u001b[0m\n\u001b[1;32m    702\u001b[0m             \u001b[0mself\u001b[0m\u001b[0;34m.\u001b[0m\u001b[0m_parent_ident\u001b[0m\u001b[0;34m,\u001b[0m\u001b[0;34m\u001b[0m\u001b[0;34m\u001b[0m\u001b[0m\n\u001b[1;32m    703\u001b[0m             \u001b[0mself\u001b[0m\u001b[0;34m.\u001b[0m\u001b[0m_parent_header\u001b[0m\u001b[0;34m,\u001b[0m\u001b[0;34m\u001b[0m\u001b[0;34m\u001b[0m\u001b[0m\n\u001b[0;32m--> 704\u001b[0;31m             \u001b[0mpassword\u001b[0m\u001b[0;34m=\u001b[0m\u001b[0;32mFalse\u001b[0m\u001b[0;34m,\u001b[0m\u001b[0;34m\u001b[0m\u001b[0;34m\u001b[0m\u001b[0m\n\u001b[0m\u001b[1;32m    705\u001b[0m         )\n\u001b[1;32m    706\u001b[0m \u001b[0;34m\u001b[0m\u001b[0m\n",
            "\u001b[0;32m/usr/local/lib/python3.6/dist-packages/ipykernel/kernelbase.py\u001b[0m in \u001b[0;36m_input_request\u001b[0;34m(self, prompt, ident, parent, password)\u001b[0m\n\u001b[1;32m    732\u001b[0m             \u001b[0;32mexcept\u001b[0m \u001b[0mKeyboardInterrupt\u001b[0m\u001b[0;34m:\u001b[0m\u001b[0;34m\u001b[0m\u001b[0;34m\u001b[0m\u001b[0m\n\u001b[1;32m    733\u001b[0m                 \u001b[0;31m# re-raise KeyboardInterrupt, to truncate traceback\u001b[0m\u001b[0;34m\u001b[0m\u001b[0;34m\u001b[0m\u001b[0;34m\u001b[0m\u001b[0m\n\u001b[0;32m--> 734\u001b[0;31m                 \u001b[0;32mraise\u001b[0m \u001b[0mKeyboardInterrupt\u001b[0m\u001b[0;34m\u001b[0m\u001b[0;34m\u001b[0m\u001b[0m\n\u001b[0m\u001b[1;32m    735\u001b[0m             \u001b[0;32melse\u001b[0m\u001b[0;34m:\u001b[0m\u001b[0;34m\u001b[0m\u001b[0;34m\u001b[0m\u001b[0m\n\u001b[1;32m    736\u001b[0m                 \u001b[0;32mbreak\u001b[0m\u001b[0;34m\u001b[0m\u001b[0;34m\u001b[0m\u001b[0m\n",
            "\u001b[0;31mKeyboardInterrupt\u001b[0m: "
          ]
        }
      ]
    },
    {
      "cell_type": "code",
      "metadata": {
        "id": "-RkoqFya1m99",
        "colab": {
          "base_uri": "https://localhost:8080/",
          "height": 69
        },
        "outputId": "c68f9400-3869-4a40-ed70-77ddec28ed03"
      },
      "source": [
        "#반복문\n",
        "nums = [0,1,2,3,4]\n",
        "squares = []\n",
        "for x in nums:\n",
        "  squares.append(x ** 2)\n",
        "print(squares)\n",
        "\n",
        "#확장 문법 - 반복문\n",
        "nums = [0,1,2,3,4]\n",
        "saquares = [x ** 2 for x in nums]\n",
        "print(squares)\n",
        "#확장 문법 - 반복문 + 조건문\n",
        "nums = [0,1,2,3,4]\n",
        "even_squares = [x ** 2 for x in nums if x % 2 == 0]\n",
        "print(even_squares)"
      ],
      "execution_count": null,
      "outputs": [
        {
          "output_type": "stream",
          "text": [
            "[0, 1, 4, 9, 16]\n",
            "[0, 1, 4, 9, 16]\n",
            "[0, 4, 16]\n"
          ],
          "name": "stdout"
        }
      ]
    },
    {
      "cell_type": "code",
      "metadata": {
        "id": "_pooJHa34Xgs",
        "colab": {
          "base_uri": "https://localhost:8080/",
          "height": 299
        },
        "outputId": "f5031910-ae18-4a5d-a05c-14b8a0b12279"
      },
      "source": [
        "import pandas as pd\n",
        "train = pd.read_csv('FIFA_train.csv')\n",
        "train.head()"
      ],
      "execution_count": null,
      "outputs": [
        {
          "output_type": "execute_result",
          "data": {
            "text/html": [
              "<div>\n",
              "<style scoped>\n",
              "    .dataframe tbody tr th:only-of-type {\n",
              "        vertical-align: middle;\n",
              "    }\n",
              "\n",
              "    .dataframe tbody tr th {\n",
              "        vertical-align: top;\n",
              "    }\n",
              "\n",
              "    .dataframe thead th {\n",
              "        text-align: right;\n",
              "    }\n",
              "</style>\n",
              "<table border=\"1\" class=\"dataframe\">\n",
              "  <thead>\n",
              "    <tr style=\"text-align: right;\">\n",
              "      <th></th>\n",
              "      <th>id</th>\n",
              "      <th>name</th>\n",
              "      <th>age</th>\n",
              "      <th>continent</th>\n",
              "      <th>contract_until</th>\n",
              "      <th>position</th>\n",
              "      <th>prefer_foot</th>\n",
              "      <th>reputation</th>\n",
              "      <th>stat_overall</th>\n",
              "      <th>stat_potential</th>\n",
              "      <th>stat_skill_moves</th>\n",
              "      <th>value</th>\n",
              "    </tr>\n",
              "  </thead>\n",
              "  <tbody>\n",
              "    <tr>\n",
              "      <th>0</th>\n",
              "      <td>0</td>\n",
              "      <td>L. Messi</td>\n",
              "      <td>31</td>\n",
              "      <td>south america</td>\n",
              "      <td>2021</td>\n",
              "      <td>ST</td>\n",
              "      <td>left</td>\n",
              "      <td>5</td>\n",
              "      <td>94</td>\n",
              "      <td>94</td>\n",
              "      <td>4</td>\n",
              "      <td>110500000</td>\n",
              "    </tr>\n",
              "    <tr>\n",
              "      <th>1</th>\n",
              "      <td>3</td>\n",
              "      <td>De Gea</td>\n",
              "      <td>27</td>\n",
              "      <td>europe</td>\n",
              "      <td>2020</td>\n",
              "      <td>GK</td>\n",
              "      <td>right</td>\n",
              "      <td>4</td>\n",
              "      <td>91</td>\n",
              "      <td>93</td>\n",
              "      <td>1</td>\n",
              "      <td>72000000</td>\n",
              "    </tr>\n",
              "    <tr>\n",
              "      <th>2</th>\n",
              "      <td>7</td>\n",
              "      <td>L. Suárez</td>\n",
              "      <td>31</td>\n",
              "      <td>south america</td>\n",
              "      <td>2021</td>\n",
              "      <td>ST</td>\n",
              "      <td>right</td>\n",
              "      <td>5</td>\n",
              "      <td>91</td>\n",
              "      <td>91</td>\n",
              "      <td>3</td>\n",
              "      <td>80000000</td>\n",
              "    </tr>\n",
              "    <tr>\n",
              "      <th>3</th>\n",
              "      <td>8</td>\n",
              "      <td>Sergio Ramos</td>\n",
              "      <td>32</td>\n",
              "      <td>europe</td>\n",
              "      <td>2020</td>\n",
              "      <td>DF</td>\n",
              "      <td>right</td>\n",
              "      <td>4</td>\n",
              "      <td>91</td>\n",
              "      <td>91</td>\n",
              "      <td>3</td>\n",
              "      <td>51000000</td>\n",
              "    </tr>\n",
              "    <tr>\n",
              "      <th>4</th>\n",
              "      <td>9</td>\n",
              "      <td>J. Oblak</td>\n",
              "      <td>25</td>\n",
              "      <td>europe</td>\n",
              "      <td>2021</td>\n",
              "      <td>GK</td>\n",
              "      <td>right</td>\n",
              "      <td>3</td>\n",
              "      <td>90</td>\n",
              "      <td>93</td>\n",
              "      <td>1</td>\n",
              "      <td>68000000</td>\n",
              "    </tr>\n",
              "  </tbody>\n",
              "</table>\n",
              "</div>"
            ],
            "text/plain": [
              "   id          name  age  ... stat_potential stat_skill_moves      value\n",
              "0   0      L. Messi   31  ...             94                4  110500000\n",
              "1   3        De Gea   27  ...             93                1   72000000\n",
              "2   7     L. Suárez   31  ...             91                3   80000000\n",
              "3   8  Sergio Ramos   32  ...             91                3   51000000\n",
              "4   9      J. Oblak   25  ...             93                1   68000000\n",
              "\n",
              "[5 rows x 12 columns]"
            ]
          },
          "metadata": {
            "tags": []
          },
          "execution_count": 69
        }
      ]
    },
    {
      "cell_type": "code",
      "metadata": {
        "id": "_uDvvxNVRfHF",
        "colab": {
          "base_uri": "https://localhost:8080/",
          "height": 284
        },
        "outputId": "4933a887-5411-4b37-ed8d-cdc8cbc15619"
      },
      "source": [
        "train.describe()"
      ],
      "execution_count": null,
      "outputs": [
        {
          "output_type": "execute_result",
          "data": {
            "text/html": [
              "<div>\n",
              "<style scoped>\n",
              "    .dataframe tbody tr th:only-of-type {\n",
              "        vertical-align: middle;\n",
              "    }\n",
              "\n",
              "    .dataframe tbody tr th {\n",
              "        vertical-align: top;\n",
              "    }\n",
              "\n",
              "    .dataframe thead th {\n",
              "        text-align: right;\n",
              "    }\n",
              "</style>\n",
              "<table border=\"1\" class=\"dataframe\">\n",
              "  <thead>\n",
              "    <tr style=\"text-align: right;\">\n",
              "      <th></th>\n",
              "      <th>id</th>\n",
              "      <th>age</th>\n",
              "      <th>reputation</th>\n",
              "      <th>stat_overall</th>\n",
              "      <th>stat_potential</th>\n",
              "      <th>stat_skill_moves</th>\n",
              "      <th>value</th>\n",
              "    </tr>\n",
              "  </thead>\n",
              "  <tbody>\n",
              "    <tr>\n",
              "      <th>count</th>\n",
              "      <td>8932.000000</td>\n",
              "      <td>8932.000000</td>\n",
              "      <td>8932.000000</td>\n",
              "      <td>8932.000000</td>\n",
              "      <td>8932.000000</td>\n",
              "      <td>8932.000000</td>\n",
              "      <td>8.932000e+03</td>\n",
              "    </tr>\n",
              "    <tr>\n",
              "      <th>mean</th>\n",
              "      <td>7966.775750</td>\n",
              "      <td>25.209136</td>\n",
              "      <td>1.130878</td>\n",
              "      <td>67.091133</td>\n",
              "      <td>71.997201</td>\n",
              "      <td>2.401702</td>\n",
              "      <td>2.778673e+06</td>\n",
              "    </tr>\n",
              "    <tr>\n",
              "      <th>std</th>\n",
              "      <td>4844.428521</td>\n",
              "      <td>4.635515</td>\n",
              "      <td>0.423792</td>\n",
              "      <td>6.854910</td>\n",
              "      <td>5.988147</td>\n",
              "      <td>0.776048</td>\n",
              "      <td>5.840982e+06</td>\n",
              "    </tr>\n",
              "    <tr>\n",
              "      <th>min</th>\n",
              "      <td>0.000000</td>\n",
              "      <td>16.000000</td>\n",
              "      <td>1.000000</td>\n",
              "      <td>47.000000</td>\n",
              "      <td>48.000000</td>\n",
              "      <td>1.000000</td>\n",
              "      <td>1.000000e+04</td>\n",
              "    </tr>\n",
              "    <tr>\n",
              "      <th>25%</th>\n",
              "      <td>3751.750000</td>\n",
              "      <td>21.000000</td>\n",
              "      <td>1.000000</td>\n",
              "      <td>63.000000</td>\n",
              "      <td>68.000000</td>\n",
              "      <td>2.000000</td>\n",
              "      <td>3.750000e+05</td>\n",
              "    </tr>\n",
              "    <tr>\n",
              "      <th>50%</th>\n",
              "      <td>7696.500000</td>\n",
              "      <td>25.000000</td>\n",
              "      <td>1.000000</td>\n",
              "      <td>67.000000</td>\n",
              "      <td>72.000000</td>\n",
              "      <td>2.000000</td>\n",
              "      <td>8.250000e+05</td>\n",
              "    </tr>\n",
              "    <tr>\n",
              "      <th>75%</th>\n",
              "      <td>12082.250000</td>\n",
              "      <td>28.000000</td>\n",
              "      <td>1.000000</td>\n",
              "      <td>72.000000</td>\n",
              "      <td>76.000000</td>\n",
              "      <td>3.000000</td>\n",
              "      <td>2.600000e+06</td>\n",
              "    </tr>\n",
              "    <tr>\n",
              "      <th>max</th>\n",
              "      <td>16948.000000</td>\n",
              "      <td>40.000000</td>\n",
              "      <td>5.000000</td>\n",
              "      <td>94.000000</td>\n",
              "      <td>94.000000</td>\n",
              "      <td>5.000000</td>\n",
              "      <td>1.105000e+08</td>\n",
              "    </tr>\n",
              "  </tbody>\n",
              "</table>\n",
              "</div>"
            ],
            "text/plain": [
              "                 id          age  ...  stat_skill_moves         value\n",
              "count   8932.000000  8932.000000  ...       8932.000000  8.932000e+03\n",
              "mean    7966.775750    25.209136  ...          2.401702  2.778673e+06\n",
              "std     4844.428521     4.635515  ...          0.776048  5.840982e+06\n",
              "min        0.000000    16.000000  ...          1.000000  1.000000e+04\n",
              "25%     3751.750000    21.000000  ...          2.000000  3.750000e+05\n",
              "50%     7696.500000    25.000000  ...          2.000000  8.250000e+05\n",
              "75%    12082.250000    28.000000  ...          3.000000  2.600000e+06\n",
              "max    16948.000000    40.000000  ...          5.000000  1.105000e+08\n",
              "\n",
              "[8 rows x 7 columns]"
            ]
          },
          "metadata": {
            "tags": []
          },
          "execution_count": 70
        }
      ]
    },
    {
      "cell_type": "code",
      "metadata": {
        "id": "j_xSrm0tgbfj",
        "colab": {
          "base_uri": "https://localhost:8080/",
          "height": 316
        },
        "outputId": "ed4b3dd9-10f1-4ee0-aa65-0ad4c83d52fd"
      },
      "source": [
        "print(train.columns)\n",
        "print(train.dtypes)"
      ],
      "execution_count": null,
      "outputs": [
        {
          "output_type": "stream",
          "text": [
            "Index(['id', 'name', 'age', 'continent', 'contract_until', 'position',\n",
            "       'prefer_foot', 'reputation', 'stat_overall', 'stat_potential',\n",
            "       'stat_skill_moves', 'value'],\n",
            "      dtype='object')\n",
            "id                   int64\n",
            "name                object\n",
            "age                  int64\n",
            "continent           object\n",
            "contract_until      object\n",
            "position            object\n",
            "prefer_foot         object\n",
            "reputation           int64\n",
            "stat_overall         int64\n",
            "stat_potential       int64\n",
            "stat_skill_moves     int64\n",
            "value                int64\n",
            "dtype: object\n"
          ],
          "name": "stdout"
        }
      ]
    },
    {
      "cell_type": "code",
      "metadata": {
        "id": "Wik6YPDsge8Q",
        "colab": {
          "base_uri": "https://localhost:8080/",
          "height": 175
        },
        "outputId": "053ac906-a86b-45aa-d50d-6ea0214ced31"
      },
      "source": [
        "독립 = train[['age',\n",
        "        'reputation', 'stat_overall', 'stat_potential',\n",
        "       'stat_skill_moves']]\n",
        "종속 = train[['value']]\n",
        "\n",
        "독립 = pd.get_dummies(독립)\n",
        "print(독립.dtypes)\n",
        "print(종속.dtypes)\n",
        "\n",
        "print(독립.shape, 종속.shape)"
      ],
      "execution_count": null,
      "outputs": [
        {
          "output_type": "stream",
          "text": [
            "age                 int64\n",
            "reputation          int64\n",
            "stat_overall        int64\n",
            "stat_potential      int64\n",
            "stat_skill_moves    int64\n",
            "dtype: object\n",
            "value    int64\n",
            "dtype: object\n",
            "(8932, 5) (8932, 1)\n"
          ],
          "name": "stdout"
        }
      ]
    },
    {
      "cell_type": "code",
      "metadata": {
        "id": "FEEottqeg7hg"
      },
      "source": [
        "import tensorflow as tf\n",
        "# X = tf.keras.layers.Input(shape=[5])\n",
        "# Y = tf.keras.layers.Dense(1)(X)\n",
        "# model = tf.keras.models.Model(X, Y)\n",
        "X = tf.keras.layers.Input(shape=[5])\n",
        "\n",
        "H = tf.keras.layers.Dense(256)(X)\n",
        "H = tf.keras.layers.BatchNormalization()(H)\n",
        "H = tf.keras.layers.Activation('swish')(H)\n",
        "\n",
        "H = tf.keras.layers.Dense(256)(H)\n",
        "H = tf.keras.layers.BatchNormalization()(H)\n",
        "H = tf.keras.layers.Activation('swish')(H)\n",
        "\n",
        "H = tf.keras.layers.Dense(128)(H)\n",
        "H = tf.keras.layers.BatchNormalization()(H)\n",
        "H = tf.keras.layers.Activation('swish')(H)\n",
        "\n",
        "H = tf.keras.layers.Dense(128)(H)\n",
        "H = tf.keras.layers.BatchNormalization()(H)\n",
        "H = tf.keras.layers.Activation('swish')(H)\n",
        "\n",
        "Y = tf.keras.layers.Dense(1)(H)\n",
        "model = tf.keras.models.Model(X, Y)\n",
        "model.compile(loss='mse')"
      ],
      "execution_count": null,
      "outputs": []
    },
    {
      "cell_type": "code",
      "metadata": {
        "id": "9hTB7VhXloAU",
        "colab": {
          "base_uri": "https://localhost:8080/",
          "height": 195
        },
        "outputId": "b53ea3ed-7e4f-44ab-92bb-31de1f87c762"
      },
      "source": [
        "mean = 종속.mean(axis=0)\n",
        "std = 종속.std(axis=0)\n",
        "종속_std = (종속 - mean) / std\n",
        "종속_std.head()\n"
      ],
      "execution_count": null,
      "outputs": [
        {
          "output_type": "execute_result",
          "data": {
            "text/html": [
              "<div>\n",
              "<style scoped>\n",
              "    .dataframe tbody tr th:only-of-type {\n",
              "        vertical-align: middle;\n",
              "    }\n",
              "\n",
              "    .dataframe tbody tr th {\n",
              "        vertical-align: top;\n",
              "    }\n",
              "\n",
              "    .dataframe thead th {\n",
              "        text-align: right;\n",
              "    }\n",
              "</style>\n",
              "<table border=\"1\" class=\"dataframe\">\n",
              "  <thead>\n",
              "    <tr style=\"text-align: right;\">\n",
              "      <th></th>\n",
              "      <th>value</th>\n",
              "    </tr>\n",
              "  </thead>\n",
              "  <tbody>\n",
              "    <tr>\n",
              "      <th>0</th>\n",
              "      <td>18.442333</td>\n",
              "    </tr>\n",
              "    <tr>\n",
              "      <th>1</th>\n",
              "      <td>11.850975</td>\n",
              "    </tr>\n",
              "    <tr>\n",
              "      <th>2</th>\n",
              "      <td>13.220608</td>\n",
              "    </tr>\n",
              "    <tr>\n",
              "      <th>3</th>\n",
              "      <td>8.255689</td>\n",
              "    </tr>\n",
              "    <tr>\n",
              "      <th>4</th>\n",
              "      <td>11.166159</td>\n",
              "    </tr>\n",
              "  </tbody>\n",
              "</table>\n",
              "</div>"
            ],
            "text/plain": [
              "       value\n",
              "0  18.442333\n",
              "1  11.850975\n",
              "2  13.220608\n",
              "3   8.255689\n",
              "4  11.166159"
            ]
          },
          "metadata": {
            "tags": []
          },
          "execution_count": 77
        }
      ]
    },
    {
      "cell_type": "code",
      "metadata": {
        "id": "rR2XweyWhJsJ",
        "colab": {
          "base_uri": "https://localhost:8080/",
          "height": 1000
        },
        "outputId": "856e8153-1b8f-4343-c339-ec29bf833e67"
      },
      "source": [
        "proto = model.fit(독립, 종속_std, epochs=100)"
      ],
      "execution_count": null,
      "outputs": [
        {
          "output_type": "stream",
          "text": [
            "Epoch 1/100\n",
            "280/280 [==============================] - 1s 3ms/step - loss: 0.2997\n",
            "Epoch 2/100\n",
            "280/280 [==============================] - 1s 3ms/step - loss: 0.2044\n",
            "Epoch 3/100\n",
            "280/280 [==============================] - 1s 3ms/step - loss: 0.1785\n",
            "Epoch 4/100\n",
            "280/280 [==============================] - 1s 3ms/step - loss: 0.1522\n",
            "Epoch 5/100\n",
            "280/280 [==============================] - 1s 3ms/step - loss: 0.1474\n",
            "Epoch 6/100\n",
            "280/280 [==============================] - 1s 3ms/step - loss: 0.1550\n",
            "Epoch 7/100\n",
            "280/280 [==============================] - 1s 3ms/step - loss: 0.1471\n",
            "Epoch 8/100\n",
            "280/280 [==============================] - 1s 3ms/step - loss: 0.1527\n",
            "Epoch 9/100\n",
            "280/280 [==============================] - 1s 3ms/step - loss: 0.1267\n",
            "Epoch 10/100\n",
            "280/280 [==============================] - 1s 3ms/step - loss: 0.1171\n",
            "Epoch 11/100\n",
            "280/280 [==============================] - 1s 3ms/step - loss: 0.1252\n",
            "Epoch 12/100\n",
            "280/280 [==============================] - 1s 3ms/step - loss: 0.1230\n",
            "Epoch 13/100\n",
            "280/280 [==============================] - 1s 3ms/step - loss: 0.1180\n",
            "Epoch 14/100\n",
            "280/280 [==============================] - 1s 3ms/step - loss: 0.1161\n",
            "Epoch 15/100\n",
            "280/280 [==============================] - 1s 3ms/step - loss: 0.1105\n",
            "Epoch 16/100\n",
            "280/280 [==============================] - 1s 3ms/step - loss: 0.1087\n",
            "Epoch 17/100\n",
            "280/280 [==============================] - 1s 3ms/step - loss: 0.1074\n",
            "Epoch 18/100\n",
            "280/280 [==============================] - 1s 3ms/step - loss: 0.1041\n",
            "Epoch 19/100\n",
            "280/280 [==============================] - 1s 3ms/step - loss: 0.0977\n",
            "Epoch 20/100\n",
            "280/280 [==============================] - 1s 3ms/step - loss: 0.1280\n",
            "Epoch 21/100\n",
            "280/280 [==============================] - 1s 3ms/step - loss: 0.0918\n",
            "Epoch 22/100\n",
            "280/280 [==============================] - 1s 3ms/step - loss: 0.0993\n",
            "Epoch 23/100\n",
            "280/280 [==============================] - 1s 3ms/step - loss: 0.1020\n",
            "Epoch 24/100\n",
            "280/280 [==============================] - 2s 6ms/step - loss: 0.1065\n",
            "Epoch 25/100\n",
            "280/280 [==============================] - 2s 5ms/step - loss: 0.1188\n",
            "Epoch 26/100\n",
            "280/280 [==============================] - 2s 5ms/step - loss: 0.1015\n",
            "Epoch 27/100\n",
            "280/280 [==============================] - 2s 6ms/step - loss: 0.1032\n",
            "Epoch 28/100\n",
            "280/280 [==============================] - 2s 5ms/step - loss: 0.0876\n",
            "Epoch 29/100\n",
            "280/280 [==============================] - 1s 5ms/step - loss: 0.1034\n",
            "Epoch 30/100\n",
            "280/280 [==============================] - 2s 6ms/step - loss: 0.0909\n",
            "Epoch 31/100\n",
            "280/280 [==============================] - 1s 3ms/step - loss: 0.0898\n",
            "Epoch 32/100\n",
            "280/280 [==============================] - 1s 3ms/step - loss: 0.0908\n",
            "Epoch 33/100\n",
            "280/280 [==============================] - 1s 3ms/step - loss: 0.1065\n",
            "Epoch 34/100\n",
            "280/280 [==============================] - 1s 3ms/step - loss: 0.0859\n",
            "Epoch 35/100\n",
            "280/280 [==============================] - 1s 3ms/step - loss: 0.1045\n",
            "Epoch 36/100\n",
            "280/280 [==============================] - 1s 3ms/step - loss: 0.0844\n",
            "Epoch 37/100\n",
            "280/280 [==============================] - 1s 3ms/step - loss: 0.0879\n",
            "Epoch 38/100\n",
            "280/280 [==============================] - 1s 3ms/step - loss: 0.0828\n",
            "Epoch 39/100\n",
            "280/280 [==============================] - 1s 3ms/step - loss: 0.0873\n",
            "Epoch 40/100\n",
            "280/280 [==============================] - 1s 3ms/step - loss: 0.1019\n",
            "Epoch 41/100\n",
            "280/280 [==============================] - 1s 3ms/step - loss: 0.0781\n",
            "Epoch 42/100\n",
            "280/280 [==============================] - 1s 3ms/step - loss: 0.0862\n",
            "Epoch 43/100\n",
            "280/280 [==============================] - 1s 3ms/step - loss: 0.0866\n",
            "Epoch 44/100\n",
            "280/280 [==============================] - 1s 3ms/step - loss: 0.0840\n",
            "Epoch 45/100\n",
            "280/280 [==============================] - 1s 3ms/step - loss: 0.0906\n",
            "Epoch 46/100\n",
            "280/280 [==============================] - 1s 3ms/step - loss: 0.0807\n",
            "Epoch 47/100\n",
            "280/280 [==============================] - 1s 3ms/step - loss: 0.0930\n",
            "Epoch 48/100\n",
            "280/280 [==============================] - 1s 3ms/step - loss: 0.0846\n",
            "Epoch 49/100\n",
            "280/280 [==============================] - 1s 3ms/step - loss: 0.0935\n",
            "Epoch 50/100\n",
            "280/280 [==============================] - 1s 3ms/step - loss: 0.0859\n",
            "Epoch 51/100\n",
            "280/280 [==============================] - 1s 3ms/step - loss: 0.0759\n",
            "Epoch 52/100\n",
            "280/280 [==============================] - 1s 3ms/step - loss: 0.0720\n",
            "Epoch 53/100\n",
            "280/280 [==============================] - 1s 3ms/step - loss: 0.0807\n",
            "Epoch 54/100\n",
            "280/280 [==============================] - 1s 3ms/step - loss: 0.0788\n",
            "Epoch 55/100\n",
            "280/280 [==============================] - 1s 3ms/step - loss: 0.0822\n",
            "Epoch 56/100\n",
            "280/280 [==============================] - 1s 3ms/step - loss: 0.0926\n",
            "Epoch 57/100\n",
            "280/280 [==============================] - 1s 3ms/step - loss: 0.0730\n",
            "Epoch 58/100\n",
            "280/280 [==============================] - 1s 3ms/step - loss: 0.0741\n",
            "Epoch 59/100\n",
            "280/280 [==============================] - 1s 3ms/step - loss: 0.0885\n",
            "Epoch 60/100\n",
            "280/280 [==============================] - 1s 3ms/step - loss: 0.0874\n",
            "Epoch 61/100\n",
            "280/280 [==============================] - 1s 3ms/step - loss: 0.0816\n",
            "Epoch 62/100\n",
            "280/280 [==============================] - 1s 3ms/step - loss: 0.0783\n",
            "Epoch 63/100\n",
            "280/280 [==============================] - 1s 3ms/step - loss: 0.0933\n",
            "Epoch 64/100\n",
            "280/280 [==============================] - 1s 3ms/step - loss: 0.0789\n",
            "Epoch 65/100\n",
            "280/280 [==============================] - 1s 3ms/step - loss: 0.0893\n",
            "Epoch 66/100\n",
            "280/280 [==============================] - 1s 3ms/step - loss: 0.0839\n",
            "Epoch 67/100\n",
            "280/280 [==============================] - 1s 3ms/step - loss: 0.0844\n",
            "Epoch 68/100\n",
            "280/280 [==============================] - 1s 3ms/step - loss: 0.0772\n",
            "Epoch 69/100\n",
            "280/280 [==============================] - 1s 3ms/step - loss: 0.0728\n",
            "Epoch 70/100\n",
            "280/280 [==============================] - 1s 3ms/step - loss: 0.0878\n",
            "Epoch 71/100\n",
            "280/280 [==============================] - 1s 3ms/step - loss: 0.0676\n",
            "Epoch 72/100\n",
            "280/280 [==============================] - 1s 3ms/step - loss: 0.0789\n",
            "Epoch 73/100\n",
            "280/280 [==============================] - 1s 3ms/step - loss: 0.0755\n",
            "Epoch 74/100\n",
            "280/280 [==============================] - 1s 3ms/step - loss: 0.0882\n",
            "Epoch 75/100\n",
            "280/280 [==============================] - 1s 3ms/step - loss: 0.0881\n",
            "Epoch 76/100\n",
            "280/280 [==============================] - 1s 3ms/step - loss: 0.0815\n",
            "Epoch 77/100\n",
            "280/280 [==============================] - 1s 3ms/step - loss: 0.0821\n",
            "Epoch 78/100\n",
            "280/280 [==============================] - 1s 3ms/step - loss: 0.0801\n",
            "Epoch 79/100\n",
            "280/280 [==============================] - 1s 3ms/step - loss: 0.0864\n",
            "Epoch 80/100\n",
            "280/280 [==============================] - 1s 3ms/step - loss: 0.0747\n",
            "Epoch 81/100\n",
            "280/280 [==============================] - 1s 3ms/step - loss: 0.0759\n",
            "Epoch 82/100\n",
            "280/280 [==============================] - 1s 3ms/step - loss: 0.0820\n",
            "Epoch 83/100\n",
            "280/280 [==============================] - 1s 3ms/step - loss: 0.0907\n",
            "Epoch 84/100\n",
            "280/280 [==============================] - 1s 3ms/step - loss: 0.0810\n",
            "Epoch 85/100\n",
            "280/280 [==============================] - 1s 3ms/step - loss: 0.0852\n",
            "Epoch 86/100\n",
            "280/280 [==============================] - 1s 3ms/step - loss: 0.0697\n",
            "Epoch 87/100\n",
            "280/280 [==============================] - 1s 3ms/step - loss: 0.0765\n",
            "Epoch 88/100\n",
            "280/280 [==============================] - 1s 3ms/step - loss: 0.0684\n",
            "Epoch 89/100\n",
            "280/280 [==============================] - 1s 3ms/step - loss: 0.0757\n",
            "Epoch 90/100\n",
            "280/280 [==============================] - 1s 3ms/step - loss: 0.0839\n",
            "Epoch 91/100\n",
            "280/280 [==============================] - 1s 3ms/step - loss: 0.0857\n",
            "Epoch 92/100\n",
            "280/280 [==============================] - 1s 3ms/step - loss: 0.0768\n",
            "Epoch 93/100\n",
            "280/280 [==============================] - 1s 3ms/step - loss: 0.0698\n",
            "Epoch 94/100\n",
            "280/280 [==============================] - 1s 3ms/step - loss: 0.0794\n",
            "Epoch 95/100\n",
            "280/280 [==============================] - 1s 3ms/step - loss: 0.0710\n",
            "Epoch 96/100\n",
            "280/280 [==============================] - 1s 3ms/step - loss: 0.0623\n",
            "Epoch 97/100\n",
            "280/280 [==============================] - 1s 3ms/step - loss: 0.0684\n",
            "Epoch 98/100\n",
            "280/280 [==============================] - 1s 3ms/step - loss: 0.0791\n",
            "Epoch 99/100\n",
            "280/280 [==============================] - 1s 3ms/step - loss: 0.0825\n",
            "Epoch 100/100\n",
            "280/280 [==============================] - 1s 3ms/step - loss: 0.0785\n"
          ],
          "name": "stdout"
        }
      ]
    },
    {
      "cell_type": "code",
      "metadata": {
        "id": "HXAMYyMqwZa9",
        "colab": {
          "base_uri": "https://localhost:8080/",
          "height": 386
        },
        "outputId": "6f21bbd4-cf80-4415-c1dd-afbf1e883882"
      },
      "source": [
        "print(model.predict(독립[:10]))\n",
        "print(종속_std[:10])"
      ],
      "execution_count": null,
      "outputs": [
        {
          "output_type": "stream",
          "text": [
            "[[5.8229904]\n",
            " [4.8863773]\n",
            " [5.623188 ]\n",
            " [4.457235 ]\n",
            " [3.8944368]\n",
            " [3.3281045]\n",
            " [4.3700986]\n",
            " [3.6884265]\n",
            " [3.729548 ]\n",
            " [4.8697824]]\n",
            "       value\n",
            "0  18.442333\n",
            "1  11.850975\n",
            "2  13.220608\n",
            "3   8.255689\n",
            "4  11.166159\n",
            "5   7.057260\n",
            "6   9.796526\n",
            "7  10.310138\n",
            "8   9.454118\n",
            "9   8.683699\n"
          ],
          "name": "stdout"
        }
      ]
    },
    {
      "cell_type": "code",
      "metadata": {
        "id": "z5uBWQTvhM8Y"
      },
      "source": [
        "import pandas as pd\n",
        "import tensorflow as tf\n",
        "import matplotlib.pyplot as plt"
      ],
      "execution_count": null,
      "outputs": []
    },
    {
      "cell_type": "code",
      "metadata": {
        "id": "bAFEvAWZuk3O"
      },
      "source": [
        ""
      ],
      "execution_count": null,
      "outputs": []
    }
  ]
}